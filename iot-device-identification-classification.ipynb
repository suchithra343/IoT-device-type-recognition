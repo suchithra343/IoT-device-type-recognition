{
 "cells": [
  {
   "cell_type": "markdown",
   "metadata": {
    "id": "2ead2d5e"
   },
   "source": [
    "# IOT device identification classification"
   ]
  },
  {
   "cell_type": "markdown",
   "metadata": {
    "id": "8d04448a"
   },
   "source": [
    "## Standard Imports"
   ]
  },
  {
   "cell_type": "code",
   "execution_count": 1,
   "metadata": {
    "execution": {
     "iopub.execute_input": "2021-07-05T10:16:08.315702Z",
     "iopub.status.busy": "2021-07-05T10:16:08.315304Z",
     "iopub.status.idle": "2021-07-05T10:16:08.319711Z",
     "shell.execute_reply": "2021-07-05T10:16:08.318696Z",
     "shell.execute_reply.started": "2021-07-05T10:16:08.315666Z"
    },
    "id": "7931b4c3"
   },
   "outputs": [],
   "source": [
    "import pandas as pd\n",
    "import numpy as np\n",
    "import matplotlib.pyplot as plt\n",
    "import seaborn as sns"
   ]
  },
  {
   "cell_type": "markdown",
   "metadata": {
    "id": "c36e36e1"
   },
   "source": [
    "## Reading the Datasets"
   ]
  },
  {
   "cell_type": "code",
   "execution_count": 3,
   "metadata": {
    "execution": {
     "iopub.execute_input": "2021-07-05T10:16:08.389824Z",
     "iopub.status.busy": "2021-07-05T10:16:08.389313Z",
     "iopub.status.idle": "2021-07-05T10:16:08.524361Z",
     "shell.execute_reply": "2021-07-05T10:16:08.52346Z",
     "shell.execute_reply.started": "2021-07-05T10:16:08.389793Z"
    }
   },
   "outputs": [
    {
     "data": {
      "text/html": [
       "<div>\n",
       "<style scoped>\n",
       "    .dataframe tbody tr th:only-of-type {\n",
       "        vertical-align: middle;\n",
       "    }\n",
       "\n",
       "    .dataframe tbody tr th {\n",
       "        vertical-align: top;\n",
       "    }\n",
       "\n",
       "    .dataframe thead th {\n",
       "        text-align: right;\n",
       "    }\n",
       "</style>\n",
       "<table border=\"1\" class=\"dataframe\">\n",
       "  <thead>\n",
       "    <tr style=\"text-align: right;\">\n",
       "      <th></th>\n",
       "      <th>ack</th>\n",
       "      <th>ack_A</th>\n",
       "      <th>ack_B</th>\n",
       "      <th>bytes</th>\n",
       "      <th>bytes_A</th>\n",
       "      <th>bytes_A_B_ratio</th>\n",
       "      <th>bytes_B</th>\n",
       "      <th>ds_field_A</th>\n",
       "      <th>ds_field_B</th>\n",
       "      <th>duration</th>\n",
       "      <th>...</th>\n",
       "      <th>suffix_is_co.il</th>\n",
       "      <th>suffix_is_com</th>\n",
       "      <th>suffix_is_com.sg</th>\n",
       "      <th>suffix_is_else</th>\n",
       "      <th>suffix_is_empty_char_value</th>\n",
       "      <th>suffix_is_googleapis.com</th>\n",
       "      <th>suffix_is_net</th>\n",
       "      <th>suffix_is_org</th>\n",
       "      <th>suffix_is_unresolved</th>\n",
       "      <th>device_category</th>\n",
       "    </tr>\n",
       "  </thead>\n",
       "  <tbody>\n",
       "    <tr>\n",
       "      <th>0</th>\n",
       "      <td>9</td>\n",
       "      <td>5</td>\n",
       "      <td>5</td>\n",
       "      <td>1213</td>\n",
       "      <td>743</td>\n",
       "      <td>0.713924</td>\n",
       "      <td>668</td>\n",
       "      <td>0</td>\n",
       "      <td>0</td>\n",
       "      <td>1.5756</td>\n",
       "      <td>...</td>\n",
       "      <td>0</td>\n",
       "      <td>0</td>\n",
       "      <td>0</td>\n",
       "      <td>1</td>\n",
       "      <td>0</td>\n",
       "      <td>0</td>\n",
       "      <td>0</td>\n",
       "      <td>0</td>\n",
       "      <td>0</td>\n",
       "      <td>security_camera</td>\n",
       "    </tr>\n",
       "    <tr>\n",
       "      <th>1</th>\n",
       "      <td>9</td>\n",
       "      <td>5</td>\n",
       "      <td>5</td>\n",
       "      <td>1213</td>\n",
       "      <td>743</td>\n",
       "      <td>1.806874</td>\n",
       "      <td>668</td>\n",
       "      <td>0</td>\n",
       "      <td>0</td>\n",
       "      <td>0.6890</td>\n",
       "      <td>...</td>\n",
       "      <td>0</td>\n",
       "      <td>0</td>\n",
       "      <td>0</td>\n",
       "      <td>1</td>\n",
       "      <td>0</td>\n",
       "      <td>0</td>\n",
       "      <td>0</td>\n",
       "      <td>0</td>\n",
       "      <td>0</td>\n",
       "      <td>security_camera</td>\n",
       "    </tr>\n",
       "    <tr>\n",
       "      <th>2</th>\n",
       "      <td>9</td>\n",
       "      <td>5</td>\n",
       "      <td>5</td>\n",
       "      <td>1213</td>\n",
       "      <td>743</td>\n",
       "      <td>0.103124</td>\n",
       "      <td>668</td>\n",
       "      <td>0</td>\n",
       "      <td>0</td>\n",
       "      <td>0.9852</td>\n",
       "      <td>...</td>\n",
       "      <td>0</td>\n",
       "      <td>0</td>\n",
       "      <td>0</td>\n",
       "      <td>1</td>\n",
       "      <td>0</td>\n",
       "      <td>0</td>\n",
       "      <td>0</td>\n",
       "      <td>0</td>\n",
       "      <td>0</td>\n",
       "      <td>security_camera</td>\n",
       "    </tr>\n",
       "    <tr>\n",
       "      <th>3</th>\n",
       "      <td>9</td>\n",
       "      <td>5</td>\n",
       "      <td>5</td>\n",
       "      <td>1213</td>\n",
       "      <td>743</td>\n",
       "      <td>1.806874</td>\n",
       "      <td>668</td>\n",
       "      <td>0</td>\n",
       "      <td>0</td>\n",
       "      <td>1.5756</td>\n",
       "      <td>...</td>\n",
       "      <td>0</td>\n",
       "      <td>0</td>\n",
       "      <td>0</td>\n",
       "      <td>1</td>\n",
       "      <td>0</td>\n",
       "      <td>0</td>\n",
       "      <td>0</td>\n",
       "      <td>0</td>\n",
       "      <td>0</td>\n",
       "      <td>security_camera</td>\n",
       "    </tr>\n",
       "    <tr>\n",
       "      <th>4</th>\n",
       "      <td>9</td>\n",
       "      <td>5</td>\n",
       "      <td>5</td>\n",
       "      <td>1213</td>\n",
       "      <td>743</td>\n",
       "      <td>1.806874</td>\n",
       "      <td>668</td>\n",
       "      <td>0</td>\n",
       "      <td>0</td>\n",
       "      <td>1.5756</td>\n",
       "      <td>...</td>\n",
       "      <td>0</td>\n",
       "      <td>0</td>\n",
       "      <td>0</td>\n",
       "      <td>1</td>\n",
       "      <td>0</td>\n",
       "      <td>0</td>\n",
       "      <td>0</td>\n",
       "      <td>0</td>\n",
       "      <td>0</td>\n",
       "      <td>security_camera</td>\n",
       "    </tr>\n",
       "  </tbody>\n",
       "</table>\n",
       "<p>5 rows × 298 columns</p>\n",
       "</div>"
      ],
      "text/plain": [
       "   ack  ack_A  ack_B  bytes  bytes_A  bytes_A_B_ratio  bytes_B  ds_field_A  \\\n",
       "0    9      5      5   1213      743         0.713924      668           0   \n",
       "1    9      5      5   1213      743         1.806874      668           0   \n",
       "2    9      5      5   1213      743         0.103124      668           0   \n",
       "3    9      5      5   1213      743         1.806874      668           0   \n",
       "4    9      5      5   1213      743         1.806874      668           0   \n",
       "\n",
       "   ds_field_B  duration  ...  suffix_is_co.il  suffix_is_com  \\\n",
       "0           0    1.5756  ...                0              0   \n",
       "1           0    0.6890  ...                0              0   \n",
       "2           0    0.9852  ...                0              0   \n",
       "3           0    1.5756  ...                0              0   \n",
       "4           0    1.5756  ...                0              0   \n",
       "\n",
       "   suffix_is_com.sg  suffix_is_else  suffix_is_empty_char_value  \\\n",
       "0                 0               1                           0   \n",
       "1                 0               1                           0   \n",
       "2                 0               1                           0   \n",
       "3                 0               1                           0   \n",
       "4                 0               1                           0   \n",
       "\n",
       "   suffix_is_googleapis.com  suffix_is_net  suffix_is_org  \\\n",
       "0                         0              0              0   \n",
       "1                         0              0              0   \n",
       "2                         0              0              0   \n",
       "3                         0              0              0   \n",
       "4                         0              0              0   \n",
       "\n",
       "   suffix_is_unresolved  device_category  \n",
       "0                     0  security_camera  \n",
       "1                     0  security_camera  \n",
       "2                     0  security_camera  \n",
       "3                     0  security_camera  \n",
       "4                     0  security_camera  \n",
       "\n",
       "[5 rows x 298 columns]"
      ]
     },
     "execution_count": 3,
     "metadata": {},
     "output_type": "execute_result"
    }
   ],
   "source": [
    "\n",
    "df_train = pd.read_csv('iot_device_train.csv')\n",
    "df_test = pd.read_csv('iot_device_test.csv')\n",
    "df_train.head()"
   ]
  },
  {
   "cell_type": "code",
   "execution_count": 4,
   "metadata": {
    "execution": {
     "iopub.execute_input": "2021-07-05T10:16:08.526391Z",
     "iopub.status.busy": "2021-07-05T10:16:08.525858Z",
     "iopub.status.idle": "2021-07-05T10:16:08.550981Z",
     "shell.execute_reply": "2021-07-05T10:16:08.549953Z",
     "shell.execute_reply.started": "2021-07-05T10:16:08.526357Z"
    }
   },
   "outputs": [
    {
     "data": {
      "text/html": [
       "<div>\n",
       "<style scoped>\n",
       "    .dataframe tbody tr th:only-of-type {\n",
       "        vertical-align: middle;\n",
       "    }\n",
       "\n",
       "    .dataframe tbody tr th {\n",
       "        vertical-align: top;\n",
       "    }\n",
       "\n",
       "    .dataframe thead th {\n",
       "        text-align: right;\n",
       "    }\n",
       "</style>\n",
       "<table border=\"1\" class=\"dataframe\">\n",
       "  <thead>\n",
       "    <tr style=\"text-align: right;\">\n",
       "      <th></th>\n",
       "      <th>ack</th>\n",
       "      <th>ack_A</th>\n",
       "      <th>ack_B</th>\n",
       "      <th>bytes</th>\n",
       "      <th>bytes_A</th>\n",
       "      <th>bytes_A_B_ratio</th>\n",
       "      <th>bytes_B</th>\n",
       "      <th>ds_field_A</th>\n",
       "      <th>ds_field_B</th>\n",
       "      <th>duration</th>\n",
       "      <th>...</th>\n",
       "      <th>suffix_is_co.il</th>\n",
       "      <th>suffix_is_com</th>\n",
       "      <th>suffix_is_com.sg</th>\n",
       "      <th>suffix_is_else</th>\n",
       "      <th>suffix_is_empty_char_value</th>\n",
       "      <th>suffix_is_googleapis.com</th>\n",
       "      <th>suffix_is_net</th>\n",
       "      <th>suffix_is_org</th>\n",
       "      <th>suffix_is_unresolved</th>\n",
       "      <th>device_category</th>\n",
       "    </tr>\n",
       "  </thead>\n",
       "  <tbody>\n",
       "    <tr>\n",
       "      <th>0</th>\n",
       "      <td>38</td>\n",
       "      <td>20</td>\n",
       "      <td>18</td>\n",
       "      <td>14698</td>\n",
       "      <td>7814</td>\n",
       "      <td>1.135096</td>\n",
       "      <td>6884</td>\n",
       "      <td>0</td>\n",
       "      <td>0</td>\n",
       "      <td>1.9156</td>\n",
       "      <td>...</td>\n",
       "      <td>0</td>\n",
       "      <td>0</td>\n",
       "      <td>0</td>\n",
       "      <td>1</td>\n",
       "      <td>0</td>\n",
       "      <td>0</td>\n",
       "      <td>0</td>\n",
       "      <td>0</td>\n",
       "      <td>0</td>\n",
       "      <td>baby_monitor</td>\n",
       "    </tr>\n",
       "    <tr>\n",
       "      <th>1</th>\n",
       "      <td>38</td>\n",
       "      <td>20</td>\n",
       "      <td>18</td>\n",
       "      <td>14698</td>\n",
       "      <td>7814</td>\n",
       "      <td>1.135096</td>\n",
       "      <td>6884</td>\n",
       "      <td>0</td>\n",
       "      <td>0</td>\n",
       "      <td>2.0020</td>\n",
       "      <td>...</td>\n",
       "      <td>0</td>\n",
       "      <td>0</td>\n",
       "      <td>0</td>\n",
       "      <td>1</td>\n",
       "      <td>0</td>\n",
       "      <td>0</td>\n",
       "      <td>0</td>\n",
       "      <td>0</td>\n",
       "      <td>0</td>\n",
       "      <td>baby_monitor</td>\n",
       "    </tr>\n",
       "    <tr>\n",
       "      <th>2</th>\n",
       "      <td>38</td>\n",
       "      <td>20</td>\n",
       "      <td>18</td>\n",
       "      <td>14762</td>\n",
       "      <td>7814</td>\n",
       "      <td>1.124640</td>\n",
       "      <td>6948</td>\n",
       "      <td>0</td>\n",
       "      <td>0</td>\n",
       "      <td>2.1833</td>\n",
       "      <td>...</td>\n",
       "      <td>0</td>\n",
       "      <td>0</td>\n",
       "      <td>0</td>\n",
       "      <td>1</td>\n",
       "      <td>0</td>\n",
       "      <td>0</td>\n",
       "      <td>0</td>\n",
       "      <td>0</td>\n",
       "      <td>0</td>\n",
       "      <td>baby_monitor</td>\n",
       "    </tr>\n",
       "    <tr>\n",
       "      <th>3</th>\n",
       "      <td>38</td>\n",
       "      <td>20</td>\n",
       "      <td>18</td>\n",
       "      <td>14762</td>\n",
       "      <td>7814</td>\n",
       "      <td>1.124640</td>\n",
       "      <td>6948</td>\n",
       "      <td>0</td>\n",
       "      <td>0</td>\n",
       "      <td>2.1521</td>\n",
       "      <td>...</td>\n",
       "      <td>0</td>\n",
       "      <td>0</td>\n",
       "      <td>0</td>\n",
       "      <td>1</td>\n",
       "      <td>0</td>\n",
       "      <td>0</td>\n",
       "      <td>0</td>\n",
       "      <td>0</td>\n",
       "      <td>0</td>\n",
       "      <td>baby_monitor</td>\n",
       "    </tr>\n",
       "    <tr>\n",
       "      <th>4</th>\n",
       "      <td>41</td>\n",
       "      <td>20</td>\n",
       "      <td>21</td>\n",
       "      <td>14862</td>\n",
       "      <td>7994</td>\n",
       "      <td>1.163949</td>\n",
       "      <td>6868</td>\n",
       "      <td>0</td>\n",
       "      <td>0</td>\n",
       "      <td>2.2422</td>\n",
       "      <td>...</td>\n",
       "      <td>0</td>\n",
       "      <td>0</td>\n",
       "      <td>0</td>\n",
       "      <td>1</td>\n",
       "      <td>0</td>\n",
       "      <td>0</td>\n",
       "      <td>0</td>\n",
       "      <td>0</td>\n",
       "      <td>0</td>\n",
       "      <td>baby_monitor</td>\n",
       "    </tr>\n",
       "  </tbody>\n",
       "</table>\n",
       "<p>5 rows × 298 columns</p>\n",
       "</div>"
      ],
      "text/plain": [
       "   ack  ack_A  ack_B  bytes  bytes_A  bytes_A_B_ratio  bytes_B  ds_field_A  \\\n",
       "0   38     20     18  14698     7814         1.135096     6884           0   \n",
       "1   38     20     18  14698     7814         1.135096     6884           0   \n",
       "2   38     20     18  14762     7814         1.124640     6948           0   \n",
       "3   38     20     18  14762     7814         1.124640     6948           0   \n",
       "4   41     20     21  14862     7994         1.163949     6868           0   \n",
       "\n",
       "   ds_field_B  duration  ...  suffix_is_co.il  suffix_is_com  \\\n",
       "0           0    1.9156  ...                0              0   \n",
       "1           0    2.0020  ...                0              0   \n",
       "2           0    2.1833  ...                0              0   \n",
       "3           0    2.1521  ...                0              0   \n",
       "4           0    2.2422  ...                0              0   \n",
       "\n",
       "   suffix_is_com.sg  suffix_is_else  suffix_is_empty_char_value  \\\n",
       "0                 0               1                           0   \n",
       "1                 0               1                           0   \n",
       "2                 0               1                           0   \n",
       "3                 0               1                           0   \n",
       "4                 0               1                           0   \n",
       "\n",
       "   suffix_is_googleapis.com  suffix_is_net  suffix_is_org  \\\n",
       "0                         0              0              0   \n",
       "1                         0              0              0   \n",
       "2                         0              0              0   \n",
       "3                         0              0              0   \n",
       "4                         0              0              0   \n",
       "\n",
       "   suffix_is_unresolved  device_category  \n",
       "0                     0     baby_monitor  \n",
       "1                     0     baby_monitor  \n",
       "2                     0     baby_monitor  \n",
       "3                     0     baby_monitor  \n",
       "4                     0     baby_monitor  \n",
       "\n",
       "[5 rows x 298 columns]"
      ]
     },
     "execution_count": 4,
     "metadata": {},
     "output_type": "execute_result"
    }
   ],
   "source": [
    "df_test.head()"
   ]
  },
  {
   "cell_type": "markdown",
   "metadata": {},
   "source": [
    "## Data Exporation"
   ]
  },
  {
   "cell_type": "code",
   "execution_count": 5,
   "metadata": {
    "execution": {
     "iopub.execute_input": "2021-07-05T10:16:08.552684Z",
     "iopub.status.busy": "2021-07-05T10:16:08.552388Z",
     "iopub.status.idle": "2021-07-05T10:16:08.592208Z",
     "shell.execute_reply": "2021-07-05T10:16:08.591229Z",
     "shell.execute_reply.started": "2021-07-05T10:16:08.552656Z"
    }
   },
   "outputs": [
    {
     "data": {
      "text/html": [
       "<div>\n",
       "<style scoped>\n",
       "    .dataframe tbody tr th:only-of-type {\n",
       "        vertical-align: middle;\n",
       "    }\n",
       "\n",
       "    .dataframe tbody tr th {\n",
       "        vertical-align: top;\n",
       "    }\n",
       "\n",
       "    .dataframe thead th {\n",
       "        text-align: right;\n",
       "    }\n",
       "</style>\n",
       "<table border=\"1\" class=\"dataframe\">\n",
       "  <thead>\n",
       "    <tr style=\"text-align: right;\">\n",
       "      <th></th>\n",
       "      <th>ack</th>\n",
       "      <th>ack_A</th>\n",
       "      <th>ack_B</th>\n",
       "      <th>bytes</th>\n",
       "      <th>bytes_A</th>\n",
       "      <th>bytes_A_B_ratio</th>\n",
       "      <th>bytes_B</th>\n",
       "      <th>ds_field_A</th>\n",
       "      <th>ds_field_B</th>\n",
       "      <th>duration</th>\n",
       "      <th>...</th>\n",
       "      <th>suffix_is_co.il</th>\n",
       "      <th>suffix_is_com</th>\n",
       "      <th>suffix_is_com.sg</th>\n",
       "      <th>suffix_is_else</th>\n",
       "      <th>suffix_is_empty_char_value</th>\n",
       "      <th>suffix_is_googleapis.com</th>\n",
       "      <th>suffix_is_net</th>\n",
       "      <th>suffix_is_org</th>\n",
       "      <th>suffix_is_unresolved</th>\n",
       "      <th>device_category</th>\n",
       "    </tr>\n",
       "  </thead>\n",
       "  <tbody>\n",
       "    <tr>\n",
       "      <th>0</th>\n",
       "      <td>9</td>\n",
       "      <td>5</td>\n",
       "      <td>5</td>\n",
       "      <td>1213</td>\n",
       "      <td>743</td>\n",
       "      <td>0.713924</td>\n",
       "      <td>668</td>\n",
       "      <td>0</td>\n",
       "      <td>0</td>\n",
       "      <td>1.5756</td>\n",
       "      <td>...</td>\n",
       "      <td>0</td>\n",
       "      <td>0</td>\n",
       "      <td>0</td>\n",
       "      <td>1</td>\n",
       "      <td>0</td>\n",
       "      <td>0</td>\n",
       "      <td>0</td>\n",
       "      <td>0</td>\n",
       "      <td>0</td>\n",
       "      <td>security_camera</td>\n",
       "    </tr>\n",
       "    <tr>\n",
       "      <th>1</th>\n",
       "      <td>9</td>\n",
       "      <td>5</td>\n",
       "      <td>5</td>\n",
       "      <td>1213</td>\n",
       "      <td>743</td>\n",
       "      <td>1.806874</td>\n",
       "      <td>668</td>\n",
       "      <td>0</td>\n",
       "      <td>0</td>\n",
       "      <td>0.6890</td>\n",
       "      <td>...</td>\n",
       "      <td>0</td>\n",
       "      <td>0</td>\n",
       "      <td>0</td>\n",
       "      <td>1</td>\n",
       "      <td>0</td>\n",
       "      <td>0</td>\n",
       "      <td>0</td>\n",
       "      <td>0</td>\n",
       "      <td>0</td>\n",
       "      <td>security_camera</td>\n",
       "    </tr>\n",
       "    <tr>\n",
       "      <th>2</th>\n",
       "      <td>9</td>\n",
       "      <td>5</td>\n",
       "      <td>5</td>\n",
       "      <td>1213</td>\n",
       "      <td>743</td>\n",
       "      <td>0.103124</td>\n",
       "      <td>668</td>\n",
       "      <td>0</td>\n",
       "      <td>0</td>\n",
       "      <td>0.9852</td>\n",
       "      <td>...</td>\n",
       "      <td>0</td>\n",
       "      <td>0</td>\n",
       "      <td>0</td>\n",
       "      <td>1</td>\n",
       "      <td>0</td>\n",
       "      <td>0</td>\n",
       "      <td>0</td>\n",
       "      <td>0</td>\n",
       "      <td>0</td>\n",
       "      <td>security_camera</td>\n",
       "    </tr>\n",
       "    <tr>\n",
       "      <th>3</th>\n",
       "      <td>9</td>\n",
       "      <td>5</td>\n",
       "      <td>5</td>\n",
       "      <td>1213</td>\n",
       "      <td>743</td>\n",
       "      <td>1.806874</td>\n",
       "      <td>668</td>\n",
       "      <td>0</td>\n",
       "      <td>0</td>\n",
       "      <td>1.5756</td>\n",
       "      <td>...</td>\n",
       "      <td>0</td>\n",
       "      <td>0</td>\n",
       "      <td>0</td>\n",
       "      <td>1</td>\n",
       "      <td>0</td>\n",
       "      <td>0</td>\n",
       "      <td>0</td>\n",
       "      <td>0</td>\n",
       "      <td>0</td>\n",
       "      <td>security_camera</td>\n",
       "    </tr>\n",
       "    <tr>\n",
       "      <th>4</th>\n",
       "      <td>9</td>\n",
       "      <td>5</td>\n",
       "      <td>5</td>\n",
       "      <td>1213</td>\n",
       "      <td>743</td>\n",
       "      <td>1.806874</td>\n",
       "      <td>668</td>\n",
       "      <td>0</td>\n",
       "      <td>0</td>\n",
       "      <td>1.5756</td>\n",
       "      <td>...</td>\n",
       "      <td>0</td>\n",
       "      <td>0</td>\n",
       "      <td>0</td>\n",
       "      <td>1</td>\n",
       "      <td>0</td>\n",
       "      <td>0</td>\n",
       "      <td>0</td>\n",
       "      <td>0</td>\n",
       "      <td>0</td>\n",
       "      <td>security_camera</td>\n",
       "    </tr>\n",
       "    <tr>\n",
       "      <th>...</th>\n",
       "      <td>...</td>\n",
       "      <td>...</td>\n",
       "      <td>...</td>\n",
       "      <td>...</td>\n",
       "      <td>...</td>\n",
       "      <td>...</td>\n",
       "      <td>...</td>\n",
       "      <td>...</td>\n",
       "      <td>...</td>\n",
       "      <td>...</td>\n",
       "      <td>...</td>\n",
       "      <td>...</td>\n",
       "      <td>...</td>\n",
       "      <td>...</td>\n",
       "      <td>...</td>\n",
       "      <td>...</td>\n",
       "      <td>...</td>\n",
       "      <td>...</td>\n",
       "      <td>...</td>\n",
       "      <td>...</td>\n",
       "      <td>...</td>\n",
       "    </tr>\n",
       "    <tr>\n",
       "      <th>995</th>\n",
       "      <td>0</td>\n",
       "      <td>0</td>\n",
       "      <td>0</td>\n",
       "      <td>240</td>\n",
       "      <td>0</td>\n",
       "      <td>0.000000</td>\n",
       "      <td>240</td>\n",
       "      <td>0</td>\n",
       "      <td>64</td>\n",
       "      <td>1.4983</td>\n",
       "      <td>...</td>\n",
       "      <td>0</td>\n",
       "      <td>0</td>\n",
       "      <td>0</td>\n",
       "      <td>1</td>\n",
       "      <td>0</td>\n",
       "      <td>0</td>\n",
       "      <td>0</td>\n",
       "      <td>0</td>\n",
       "      <td>0</td>\n",
       "      <td>socket</td>\n",
       "    </tr>\n",
       "    <tr>\n",
       "      <th>996</th>\n",
       "      <td>0</td>\n",
       "      <td>0</td>\n",
       "      <td>0</td>\n",
       "      <td>240</td>\n",
       "      <td>0</td>\n",
       "      <td>0.000000</td>\n",
       "      <td>240</td>\n",
       "      <td>0</td>\n",
       "      <td>64</td>\n",
       "      <td>1.4979</td>\n",
       "      <td>...</td>\n",
       "      <td>0</td>\n",
       "      <td>0</td>\n",
       "      <td>0</td>\n",
       "      <td>1</td>\n",
       "      <td>0</td>\n",
       "      <td>0</td>\n",
       "      <td>0</td>\n",
       "      <td>0</td>\n",
       "      <td>0</td>\n",
       "      <td>socket</td>\n",
       "    </tr>\n",
       "    <tr>\n",
       "      <th>997</th>\n",
       "      <td>0</td>\n",
       "      <td>0</td>\n",
       "      <td>0</td>\n",
       "      <td>240</td>\n",
       "      <td>0</td>\n",
       "      <td>0.000000</td>\n",
       "      <td>240</td>\n",
       "      <td>0</td>\n",
       "      <td>64</td>\n",
       "      <td>1.4950</td>\n",
       "      <td>...</td>\n",
       "      <td>0</td>\n",
       "      <td>0</td>\n",
       "      <td>0</td>\n",
       "      <td>1</td>\n",
       "      <td>0</td>\n",
       "      <td>0</td>\n",
       "      <td>0</td>\n",
       "      <td>0</td>\n",
       "      <td>0</td>\n",
       "      <td>socket</td>\n",
       "    </tr>\n",
       "    <tr>\n",
       "      <th>998</th>\n",
       "      <td>0</td>\n",
       "      <td>0</td>\n",
       "      <td>0</td>\n",
       "      <td>240</td>\n",
       "      <td>0</td>\n",
       "      <td>0.000000</td>\n",
       "      <td>240</td>\n",
       "      <td>0</td>\n",
       "      <td>64</td>\n",
       "      <td>1.4993</td>\n",
       "      <td>...</td>\n",
       "      <td>0</td>\n",
       "      <td>0</td>\n",
       "      <td>0</td>\n",
       "      <td>1</td>\n",
       "      <td>0</td>\n",
       "      <td>0</td>\n",
       "      <td>0</td>\n",
       "      <td>0</td>\n",
       "      <td>0</td>\n",
       "      <td>socket</td>\n",
       "    </tr>\n",
       "    <tr>\n",
       "      <th>999</th>\n",
       "      <td>0</td>\n",
       "      <td>0</td>\n",
       "      <td>0</td>\n",
       "      <td>240</td>\n",
       "      <td>0</td>\n",
       "      <td>0.000000</td>\n",
       "      <td>240</td>\n",
       "      <td>0</td>\n",
       "      <td>64</td>\n",
       "      <td>1.4951</td>\n",
       "      <td>...</td>\n",
       "      <td>0</td>\n",
       "      <td>0</td>\n",
       "      <td>0</td>\n",
       "      <td>1</td>\n",
       "      <td>0</td>\n",
       "      <td>0</td>\n",
       "      <td>0</td>\n",
       "      <td>0</td>\n",
       "      <td>0</td>\n",
       "      <td>socket</td>\n",
       "    </tr>\n",
       "  </tbody>\n",
       "</table>\n",
       "<p>1000 rows × 298 columns</p>\n",
       "</div>"
      ],
      "text/plain": [
       "     ack  ack_A  ack_B  bytes  bytes_A  bytes_A_B_ratio  bytes_B  ds_field_A  \\\n",
       "0      9      5      5   1213      743         0.713924      668           0   \n",
       "1      9      5      5   1213      743         1.806874      668           0   \n",
       "2      9      5      5   1213      743         0.103124      668           0   \n",
       "3      9      5      5   1213      743         1.806874      668           0   \n",
       "4      9      5      5   1213      743         1.806874      668           0   \n",
       "..   ...    ...    ...    ...      ...              ...      ...         ...   \n",
       "995    0      0      0    240        0         0.000000      240           0   \n",
       "996    0      0      0    240        0         0.000000      240           0   \n",
       "997    0      0      0    240        0         0.000000      240           0   \n",
       "998    0      0      0    240        0         0.000000      240           0   \n",
       "999    0      0      0    240        0         0.000000      240           0   \n",
       "\n",
       "     ds_field_B  duration  ...  suffix_is_co.il  suffix_is_com  \\\n",
       "0             0    1.5756  ...                0              0   \n",
       "1             0    0.6890  ...                0              0   \n",
       "2             0    0.9852  ...                0              0   \n",
       "3             0    1.5756  ...                0              0   \n",
       "4             0    1.5756  ...                0              0   \n",
       "..          ...       ...  ...              ...            ...   \n",
       "995          64    1.4983  ...                0              0   \n",
       "996          64    1.4979  ...                0              0   \n",
       "997          64    1.4950  ...                0              0   \n",
       "998          64    1.4993  ...                0              0   \n",
       "999          64    1.4951  ...                0              0   \n",
       "\n",
       "     suffix_is_com.sg  suffix_is_else  suffix_is_empty_char_value  \\\n",
       "0                   0               1                           0   \n",
       "1                   0               1                           0   \n",
       "2                   0               1                           0   \n",
       "3                   0               1                           0   \n",
       "4                   0               1                           0   \n",
       "..                ...             ...                         ...   \n",
       "995                 0               1                           0   \n",
       "996                 0               1                           0   \n",
       "997                 0               1                           0   \n",
       "998                 0               1                           0   \n",
       "999                 0               1                           0   \n",
       "\n",
       "     suffix_is_googleapis.com  suffix_is_net  suffix_is_org  \\\n",
       "0                           0              0              0   \n",
       "1                           0              0              0   \n",
       "2                           0              0              0   \n",
       "3                           0              0              0   \n",
       "4                           0              0              0   \n",
       "..                        ...            ...            ...   \n",
       "995                         0              0              0   \n",
       "996                         0              0              0   \n",
       "997                         0              0              0   \n",
       "998                         0              0              0   \n",
       "999                         0              0              0   \n",
       "\n",
       "     suffix_is_unresolved  device_category  \n",
       "0                       0  security_camera  \n",
       "1                       0  security_camera  \n",
       "2                       0  security_camera  \n",
       "3                       0  security_camera  \n",
       "4                       0  security_camera  \n",
       "..                    ...              ...  \n",
       "995                     0           socket  \n",
       "996                     0           socket  \n",
       "997                     0           socket  \n",
       "998                     0           socket  \n",
       "999                     0           socket  \n",
       "\n",
       "[1000 rows x 298 columns]"
      ]
     },
     "execution_count": 5,
     "metadata": {},
     "output_type": "execute_result"
    }
   ],
   "source": [
    "df_train"
   ]
  },
  {
   "cell_type": "code",
   "execution_count": 6,
   "metadata": {
    "execution": {
     "iopub.execute_input": "2021-07-05T10:16:08.593794Z",
     "iopub.status.busy": "2021-07-05T10:16:08.59351Z",
     "iopub.status.idle": "2021-07-05T10:16:08.629857Z",
     "shell.execute_reply": "2021-07-05T10:16:08.628657Z",
     "shell.execute_reply.started": "2021-07-05T10:16:08.593769Z"
    }
   },
   "outputs": [
    {
     "data": {
      "text/html": [
       "<div>\n",
       "<style scoped>\n",
       "    .dataframe tbody tr th:only-of-type {\n",
       "        vertical-align: middle;\n",
       "    }\n",
       "\n",
       "    .dataframe tbody tr th {\n",
       "        vertical-align: top;\n",
       "    }\n",
       "\n",
       "    .dataframe thead th {\n",
       "        text-align: right;\n",
       "    }\n",
       "</style>\n",
       "<table border=\"1\" class=\"dataframe\">\n",
       "  <thead>\n",
       "    <tr style=\"text-align: right;\">\n",
       "      <th></th>\n",
       "      <th>ack</th>\n",
       "      <th>ack_A</th>\n",
       "      <th>ack_B</th>\n",
       "      <th>bytes</th>\n",
       "      <th>bytes_A</th>\n",
       "      <th>bytes_A_B_ratio</th>\n",
       "      <th>bytes_B</th>\n",
       "      <th>ds_field_A</th>\n",
       "      <th>ds_field_B</th>\n",
       "      <th>duration</th>\n",
       "      <th>...</th>\n",
       "      <th>suffix_is_co.il</th>\n",
       "      <th>suffix_is_com</th>\n",
       "      <th>suffix_is_com.sg</th>\n",
       "      <th>suffix_is_else</th>\n",
       "      <th>suffix_is_empty_char_value</th>\n",
       "      <th>suffix_is_googleapis.com</th>\n",
       "      <th>suffix_is_net</th>\n",
       "      <th>suffix_is_org</th>\n",
       "      <th>suffix_is_unresolved</th>\n",
       "      <th>device_category</th>\n",
       "    </tr>\n",
       "  </thead>\n",
       "  <tbody>\n",
       "    <tr>\n",
       "      <th>0</th>\n",
       "      <td>38</td>\n",
       "      <td>20</td>\n",
       "      <td>18</td>\n",
       "      <td>14698</td>\n",
       "      <td>7814</td>\n",
       "      <td>1.135096</td>\n",
       "      <td>6884</td>\n",
       "      <td>0</td>\n",
       "      <td>0</td>\n",
       "      <td>1.9156</td>\n",
       "      <td>...</td>\n",
       "      <td>0</td>\n",
       "      <td>0</td>\n",
       "      <td>0</td>\n",
       "      <td>1</td>\n",
       "      <td>0</td>\n",
       "      <td>0</td>\n",
       "      <td>0</td>\n",
       "      <td>0</td>\n",
       "      <td>0</td>\n",
       "      <td>baby_monitor</td>\n",
       "    </tr>\n",
       "    <tr>\n",
       "      <th>1</th>\n",
       "      <td>38</td>\n",
       "      <td>20</td>\n",
       "      <td>18</td>\n",
       "      <td>14698</td>\n",
       "      <td>7814</td>\n",
       "      <td>1.135096</td>\n",
       "      <td>6884</td>\n",
       "      <td>0</td>\n",
       "      <td>0</td>\n",
       "      <td>2.0020</td>\n",
       "      <td>...</td>\n",
       "      <td>0</td>\n",
       "      <td>0</td>\n",
       "      <td>0</td>\n",
       "      <td>1</td>\n",
       "      <td>0</td>\n",
       "      <td>0</td>\n",
       "      <td>0</td>\n",
       "      <td>0</td>\n",
       "      <td>0</td>\n",
       "      <td>baby_monitor</td>\n",
       "    </tr>\n",
       "    <tr>\n",
       "      <th>2</th>\n",
       "      <td>38</td>\n",
       "      <td>20</td>\n",
       "      <td>18</td>\n",
       "      <td>14762</td>\n",
       "      <td>7814</td>\n",
       "      <td>1.124640</td>\n",
       "      <td>6948</td>\n",
       "      <td>0</td>\n",
       "      <td>0</td>\n",
       "      <td>2.1833</td>\n",
       "      <td>...</td>\n",
       "      <td>0</td>\n",
       "      <td>0</td>\n",
       "      <td>0</td>\n",
       "      <td>1</td>\n",
       "      <td>0</td>\n",
       "      <td>0</td>\n",
       "      <td>0</td>\n",
       "      <td>0</td>\n",
       "      <td>0</td>\n",
       "      <td>baby_monitor</td>\n",
       "    </tr>\n",
       "    <tr>\n",
       "      <th>3</th>\n",
       "      <td>38</td>\n",
       "      <td>20</td>\n",
       "      <td>18</td>\n",
       "      <td>14762</td>\n",
       "      <td>7814</td>\n",
       "      <td>1.124640</td>\n",
       "      <td>6948</td>\n",
       "      <td>0</td>\n",
       "      <td>0</td>\n",
       "      <td>2.1521</td>\n",
       "      <td>...</td>\n",
       "      <td>0</td>\n",
       "      <td>0</td>\n",
       "      <td>0</td>\n",
       "      <td>1</td>\n",
       "      <td>0</td>\n",
       "      <td>0</td>\n",
       "      <td>0</td>\n",
       "      <td>0</td>\n",
       "      <td>0</td>\n",
       "      <td>baby_monitor</td>\n",
       "    </tr>\n",
       "    <tr>\n",
       "      <th>4</th>\n",
       "      <td>41</td>\n",
       "      <td>20</td>\n",
       "      <td>21</td>\n",
       "      <td>14862</td>\n",
       "      <td>7994</td>\n",
       "      <td>1.163949</td>\n",
       "      <td>6868</td>\n",
       "      <td>0</td>\n",
       "      <td>0</td>\n",
       "      <td>2.2422</td>\n",
       "      <td>...</td>\n",
       "      <td>0</td>\n",
       "      <td>0</td>\n",
       "      <td>0</td>\n",
       "      <td>1</td>\n",
       "      <td>0</td>\n",
       "      <td>0</td>\n",
       "      <td>0</td>\n",
       "      <td>0</td>\n",
       "      <td>0</td>\n",
       "      <td>baby_monitor</td>\n",
       "    </tr>\n",
       "    <tr>\n",
       "      <th>...</th>\n",
       "      <td>...</td>\n",
       "      <td>...</td>\n",
       "      <td>...</td>\n",
       "      <td>...</td>\n",
       "      <td>...</td>\n",
       "      <td>...</td>\n",
       "      <td>...</td>\n",
       "      <td>...</td>\n",
       "      <td>...</td>\n",
       "      <td>...</td>\n",
       "      <td>...</td>\n",
       "      <td>...</td>\n",
       "      <td>...</td>\n",
       "      <td>...</td>\n",
       "      <td>...</td>\n",
       "      <td>...</td>\n",
       "      <td>...</td>\n",
       "      <td>...</td>\n",
       "      <td>...</td>\n",
       "      <td>...</td>\n",
       "      <td>...</td>\n",
       "    </tr>\n",
       "    <tr>\n",
       "      <th>895</th>\n",
       "      <td>264</td>\n",
       "      <td>116</td>\n",
       "      <td>148</td>\n",
       "      <td>212053</td>\n",
       "      <td>202036</td>\n",
       "      <td>20.169310</td>\n",
       "      <td>10017</td>\n",
       "      <td>0</td>\n",
       "      <td>0</td>\n",
       "      <td>250.1856</td>\n",
       "      <td>...</td>\n",
       "      <td>0</td>\n",
       "      <td>0</td>\n",
       "      <td>0</td>\n",
       "      <td>0</td>\n",
       "      <td>1</td>\n",
       "      <td>0</td>\n",
       "      <td>0</td>\n",
       "      <td>0</td>\n",
       "      <td>0</td>\n",
       "      <td>watch</td>\n",
       "    </tr>\n",
       "    <tr>\n",
       "      <th>896</th>\n",
       "      <td>24</td>\n",
       "      <td>13</td>\n",
       "      <td>11</td>\n",
       "      <td>7749</td>\n",
       "      <td>5364</td>\n",
       "      <td>2.249056</td>\n",
       "      <td>2385</td>\n",
       "      <td>0</td>\n",
       "      <td>0</td>\n",
       "      <td>300.6818</td>\n",
       "      <td>...</td>\n",
       "      <td>0</td>\n",
       "      <td>0</td>\n",
       "      <td>0</td>\n",
       "      <td>1</td>\n",
       "      <td>0</td>\n",
       "      <td>0</td>\n",
       "      <td>0</td>\n",
       "      <td>0</td>\n",
       "      <td>0</td>\n",
       "      <td>watch</td>\n",
       "    </tr>\n",
       "    <tr>\n",
       "      <th>897</th>\n",
       "      <td>20</td>\n",
       "      <td>9</td>\n",
       "      <td>11</td>\n",
       "      <td>7091</td>\n",
       "      <td>5336</td>\n",
       "      <td>3.040454</td>\n",
       "      <td>1755</td>\n",
       "      <td>0</td>\n",
       "      <td>0</td>\n",
       "      <td>300.9433</td>\n",
       "      <td>...</td>\n",
       "      <td>0</td>\n",
       "      <td>0</td>\n",
       "      <td>0</td>\n",
       "      <td>1</td>\n",
       "      <td>0</td>\n",
       "      <td>0</td>\n",
       "      <td>0</td>\n",
       "      <td>0</td>\n",
       "      <td>0</td>\n",
       "      <td>watch</td>\n",
       "    </tr>\n",
       "    <tr>\n",
       "      <th>898</th>\n",
       "      <td>30</td>\n",
       "      <td>14</td>\n",
       "      <td>16</td>\n",
       "      <td>7882</td>\n",
       "      <td>5789</td>\n",
       "      <td>2.765885</td>\n",
       "      <td>2093</td>\n",
       "      <td>0</td>\n",
       "      <td>0</td>\n",
       "      <td>244.8219</td>\n",
       "      <td>...</td>\n",
       "      <td>0</td>\n",
       "      <td>0</td>\n",
       "      <td>0</td>\n",
       "      <td>0</td>\n",
       "      <td>1</td>\n",
       "      <td>0</td>\n",
       "      <td>0</td>\n",
       "      <td>0</td>\n",
       "      <td>0</td>\n",
       "      <td>watch</td>\n",
       "    </tr>\n",
       "    <tr>\n",
       "      <th>899</th>\n",
       "      <td>294</td>\n",
       "      <td>147</td>\n",
       "      <td>147</td>\n",
       "      <td>209972</td>\n",
       "      <td>197919</td>\n",
       "      <td>16.420724</td>\n",
       "      <td>12053</td>\n",
       "      <td>0</td>\n",
       "      <td>0</td>\n",
       "      <td>248.6685</td>\n",
       "      <td>...</td>\n",
       "      <td>0</td>\n",
       "      <td>0</td>\n",
       "      <td>0</td>\n",
       "      <td>1</td>\n",
       "      <td>0</td>\n",
       "      <td>0</td>\n",
       "      <td>0</td>\n",
       "      <td>0</td>\n",
       "      <td>0</td>\n",
       "      <td>watch</td>\n",
       "    </tr>\n",
       "  </tbody>\n",
       "</table>\n",
       "<p>900 rows × 298 columns</p>\n",
       "</div>"
      ],
      "text/plain": [
       "     ack  ack_A  ack_B   bytes  bytes_A  bytes_A_B_ratio  bytes_B  ds_field_A  \\\n",
       "0     38     20     18   14698     7814         1.135096     6884           0   \n",
       "1     38     20     18   14698     7814         1.135096     6884           0   \n",
       "2     38     20     18   14762     7814         1.124640     6948           0   \n",
       "3     38     20     18   14762     7814         1.124640     6948           0   \n",
       "4     41     20     21   14862     7994         1.163949     6868           0   \n",
       "..   ...    ...    ...     ...      ...              ...      ...         ...   \n",
       "895  264    116    148  212053   202036        20.169310    10017           0   \n",
       "896   24     13     11    7749     5364         2.249056     2385           0   \n",
       "897   20      9     11    7091     5336         3.040454     1755           0   \n",
       "898   30     14     16    7882     5789         2.765885     2093           0   \n",
       "899  294    147    147  209972   197919        16.420724    12053           0   \n",
       "\n",
       "     ds_field_B  duration  ...  suffix_is_co.il  suffix_is_com  \\\n",
       "0             0    1.9156  ...                0              0   \n",
       "1             0    2.0020  ...                0              0   \n",
       "2             0    2.1833  ...                0              0   \n",
       "3             0    2.1521  ...                0              0   \n",
       "4             0    2.2422  ...                0              0   \n",
       "..          ...       ...  ...              ...            ...   \n",
       "895           0  250.1856  ...                0              0   \n",
       "896           0  300.6818  ...                0              0   \n",
       "897           0  300.9433  ...                0              0   \n",
       "898           0  244.8219  ...                0              0   \n",
       "899           0  248.6685  ...                0              0   \n",
       "\n",
       "     suffix_is_com.sg  suffix_is_else  suffix_is_empty_char_value  \\\n",
       "0                   0               1                           0   \n",
       "1                   0               1                           0   \n",
       "2                   0               1                           0   \n",
       "3                   0               1                           0   \n",
       "4                   0               1                           0   \n",
       "..                ...             ...                         ...   \n",
       "895                 0               0                           1   \n",
       "896                 0               1                           0   \n",
       "897                 0               1                           0   \n",
       "898                 0               0                           1   \n",
       "899                 0               1                           0   \n",
       "\n",
       "     suffix_is_googleapis.com  suffix_is_net  suffix_is_org  \\\n",
       "0                           0              0              0   \n",
       "1                           0              0              0   \n",
       "2                           0              0              0   \n",
       "3                           0              0              0   \n",
       "4                           0              0              0   \n",
       "..                        ...            ...            ...   \n",
       "895                         0              0              0   \n",
       "896                         0              0              0   \n",
       "897                         0              0              0   \n",
       "898                         0              0              0   \n",
       "899                         0              0              0   \n",
       "\n",
       "     suffix_is_unresolved  device_category  \n",
       "0                       0     baby_monitor  \n",
       "1                       0     baby_monitor  \n",
       "2                       0     baby_monitor  \n",
       "3                       0     baby_monitor  \n",
       "4                       0     baby_monitor  \n",
       "..                    ...              ...  \n",
       "895                     0            watch  \n",
       "896                     0            watch  \n",
       "897                     0            watch  \n",
       "898                     0            watch  \n",
       "899                     0            watch  \n",
       "\n",
       "[900 rows x 298 columns]"
      ]
     },
     "execution_count": 6,
     "metadata": {},
     "output_type": "execute_result"
    }
   ],
   "source": [
    "df_test"
   ]
  },
  {
   "cell_type": "code",
   "execution_count": 7,
   "metadata": {
    "execution": {
     "iopub.execute_input": "2021-07-05T10:16:08.632557Z",
     "iopub.status.busy": "2021-07-05T10:16:08.632184Z",
     "iopub.status.idle": "2021-07-05T10:16:08.871308Z",
     "shell.execute_reply": "2021-07-05T10:16:08.870327Z",
     "shell.execute_reply.started": "2021-07-05T10:16:08.632523Z"
    }
   },
   "outputs": [
    {
     "data": {
      "text/plain": [
       "<AxesSubplot:title={'center':'Training set device categroy'}, xlabel='device_category', ylabel='count'>"
      ]
     },
     "execution_count": 7,
     "metadata": {},
     "output_type": "execute_result"
    },
    {
     "data": {
      "image/png": "[encoded data removed]",
      "text/plain": [
       "<Figure size 1440x720 with 1 Axes>"
      ]
     },
     "metadata": {
      "needs_background": "light"
     },
     "output_type": "display_data"
    }
   ],
   "source": [
    "plt.figure(figsize=(20,10))\n",
    "plt.title(\"Training set device categroy\")\n",
    "sns.countplot(data=df_train, x='device_category')"
   ]
  },
  {
   "cell_type": "code",
   "execution_count": 8,
   "metadata": {
    "execution": {
     "iopub.execute_input": "2021-07-05T10:16:08.873449Z",
     "iopub.status.busy": "2021-07-05T10:16:08.873081Z",
     "iopub.status.idle": "2021-07-05T10:16:09.260355Z",
     "shell.execute_reply": "2021-07-05T10:16:09.259246Z",
     "shell.execute_reply.started": "2021-07-05T10:16:08.873417Z"
    }
   },
   "outputs": [
    {
     "data": {
      "text/plain": [
       "<AxesSubplot:title={'center':'Test set device categroy'}, xlabel='device_category', ylabel='count'>"
      ]
     },
     "execution_count": 8,
     "metadata": {},
     "output_type": "execute_result"
    },
    {
     "data": {
      "image/png": "[encoded data removed]",
      "text/plain": [
       "<Figure size 1440x720 with 1 Axes>"
      ]
     },
     "metadata": {
      "needs_background": "light"
     },
     "output_type": "display_data"
    }
   ],
   "source": [
    "plt.figure(figsize=(20,10))\n",
    "plt.title(\"Test set device categroy\")\n",
    "sns.countplot(data=df_test, x='device_category')"
   ]
  },
  {
   "cell_type": "markdown",
   "metadata": {},
   "source": [
    "the test set data did not contain any water sensor for the labels. \n",
    "i will consiser to join the 2 dataset and do a train test split"
   ]
  },
  {
   "cell_type": "code",
   "execution_count": 9,
   "metadata": {
    "execution": {
     "iopub.execute_input": "2021-07-05T10:16:09.262092Z",
     "iopub.status.busy": "2021-07-05T10:16:09.261771Z",
     "iopub.status.idle": "2021-07-05T10:16:09.299689Z",
     "shell.execute_reply": "2021-07-05T10:16:09.298622Z",
     "shell.execute_reply.started": "2021-07-05T10:16:09.26206Z"
    }
   },
   "outputs": [],
   "source": [
    "df = pd.concat([df_train,df_test],ignore_index=True)"
   ]
  },
  {
   "cell_type": "code",
   "execution_count": 10,
   "metadata": {
    "execution": {
     "iopub.execute_input": "2021-07-05T10:16:09.301306Z",
     "iopub.status.busy": "2021-07-05T10:16:09.301005Z",
     "iopub.status.idle": "2021-07-05T10:16:09.341135Z",
     "shell.execute_reply": "2021-07-05T10:16:09.339932Z",
     "shell.execute_reply.started": "2021-07-05T10:16:09.301279Z"
    }
   },
   "outputs": [
    {
     "data": {
      "text/html": [
       "<div>\n",
       "<style scoped>\n",
       "    .dataframe tbody tr th:only-of-type {\n",
       "        vertical-align: middle;\n",
       "    }\n",
       "\n",
       "    .dataframe tbody tr th {\n",
       "        vertical-align: top;\n",
       "    }\n",
       "\n",
       "    .dataframe thead th {\n",
       "        text-align: right;\n",
       "    }\n",
       "</style>\n",
       "<table border=\"1\" class=\"dataframe\">\n",
       "  <thead>\n",
       "    <tr style=\"text-align: right;\">\n",
       "      <th></th>\n",
       "      <th>ack</th>\n",
       "      <th>ack_A</th>\n",
       "      <th>ack_B</th>\n",
       "      <th>bytes</th>\n",
       "      <th>bytes_A</th>\n",
       "      <th>bytes_A_B_ratio</th>\n",
       "      <th>bytes_B</th>\n",
       "      <th>ds_field_A</th>\n",
       "      <th>ds_field_B</th>\n",
       "      <th>duration</th>\n",
       "      <th>...</th>\n",
       "      <th>suffix_is_co.il</th>\n",
       "      <th>suffix_is_com</th>\n",
       "      <th>suffix_is_com.sg</th>\n",
       "      <th>suffix_is_else</th>\n",
       "      <th>suffix_is_empty_char_value</th>\n",
       "      <th>suffix_is_googleapis.com</th>\n",
       "      <th>suffix_is_net</th>\n",
       "      <th>suffix_is_org</th>\n",
       "      <th>suffix_is_unresolved</th>\n",
       "      <th>device_category</th>\n",
       "    </tr>\n",
       "  </thead>\n",
       "  <tbody>\n",
       "    <tr>\n",
       "      <th>0</th>\n",
       "      <td>9</td>\n",
       "      <td>5</td>\n",
       "      <td>5</td>\n",
       "      <td>1213</td>\n",
       "      <td>743</td>\n",
       "      <td>0.713924</td>\n",
       "      <td>668</td>\n",
       "      <td>0</td>\n",
       "      <td>0</td>\n",
       "      <td>1.5756</td>\n",
       "      <td>...</td>\n",
       "      <td>0</td>\n",
       "      <td>0</td>\n",
       "      <td>0</td>\n",
       "      <td>1</td>\n",
       "      <td>0</td>\n",
       "      <td>0</td>\n",
       "      <td>0</td>\n",
       "      <td>0</td>\n",
       "      <td>0</td>\n",
       "      <td>security_camera</td>\n",
       "    </tr>\n",
       "    <tr>\n",
       "      <th>1</th>\n",
       "      <td>9</td>\n",
       "      <td>5</td>\n",
       "      <td>5</td>\n",
       "      <td>1213</td>\n",
       "      <td>743</td>\n",
       "      <td>1.806874</td>\n",
       "      <td>668</td>\n",
       "      <td>0</td>\n",
       "      <td>0</td>\n",
       "      <td>0.6890</td>\n",
       "      <td>...</td>\n",
       "      <td>0</td>\n",
       "      <td>0</td>\n",
       "      <td>0</td>\n",
       "      <td>1</td>\n",
       "      <td>0</td>\n",
       "      <td>0</td>\n",
       "      <td>0</td>\n",
       "      <td>0</td>\n",
       "      <td>0</td>\n",
       "      <td>security_camera</td>\n",
       "    </tr>\n",
       "    <tr>\n",
       "      <th>2</th>\n",
       "      <td>9</td>\n",
       "      <td>5</td>\n",
       "      <td>5</td>\n",
       "      <td>1213</td>\n",
       "      <td>743</td>\n",
       "      <td>0.103124</td>\n",
       "      <td>668</td>\n",
       "      <td>0</td>\n",
       "      <td>0</td>\n",
       "      <td>0.9852</td>\n",
       "      <td>...</td>\n",
       "      <td>0</td>\n",
       "      <td>0</td>\n",
       "      <td>0</td>\n",
       "      <td>1</td>\n",
       "      <td>0</td>\n",
       "      <td>0</td>\n",
       "      <td>0</td>\n",
       "      <td>0</td>\n",
       "      <td>0</td>\n",
       "      <td>security_camera</td>\n",
       "    </tr>\n",
       "    <tr>\n",
       "      <th>3</th>\n",
       "      <td>9</td>\n",
       "      <td>5</td>\n",
       "      <td>5</td>\n",
       "      <td>1213</td>\n",
       "      <td>743</td>\n",
       "      <td>1.806874</td>\n",
       "      <td>668</td>\n",
       "      <td>0</td>\n",
       "      <td>0</td>\n",
       "      <td>1.5756</td>\n",
       "      <td>...</td>\n",
       "      <td>0</td>\n",
       "      <td>0</td>\n",
       "      <td>0</td>\n",
       "      <td>1</td>\n",
       "      <td>0</td>\n",
       "      <td>0</td>\n",
       "      <td>0</td>\n",
       "      <td>0</td>\n",
       "      <td>0</td>\n",
       "      <td>security_camera</td>\n",
       "    </tr>\n",
       "    <tr>\n",
       "      <th>4</th>\n",
       "      <td>9</td>\n",
       "      <td>5</td>\n",
       "      <td>5</td>\n",
       "      <td>1213</td>\n",
       "      <td>743</td>\n",
       "      <td>1.806874</td>\n",
       "      <td>668</td>\n",
       "      <td>0</td>\n",
       "      <td>0</td>\n",
       "      <td>1.5756</td>\n",
       "      <td>...</td>\n",
       "      <td>0</td>\n",
       "      <td>0</td>\n",
       "      <td>0</td>\n",
       "      <td>1</td>\n",
       "      <td>0</td>\n",
       "      <td>0</td>\n",
       "      <td>0</td>\n",
       "      <td>0</td>\n",
       "      <td>0</td>\n",
       "      <td>security_camera</td>\n",
       "    </tr>\n",
       "    <tr>\n",
       "      <th>...</th>\n",
       "      <td>...</td>\n",
       "      <td>...</td>\n",
       "      <td>...</td>\n",
       "      <td>...</td>\n",
       "      <td>...</td>\n",
       "      <td>...</td>\n",
       "      <td>...</td>\n",
       "      <td>...</td>\n",
       "      <td>...</td>\n",
       "      <td>...</td>\n",
       "      <td>...</td>\n",
       "      <td>...</td>\n",
       "      <td>...</td>\n",
       "      <td>...</td>\n",
       "      <td>...</td>\n",
       "      <td>...</td>\n",
       "      <td>...</td>\n",
       "      <td>...</td>\n",
       "      <td>...</td>\n",
       "      <td>...</td>\n",
       "      <td>...</td>\n",
       "    </tr>\n",
       "    <tr>\n",
       "      <th>1895</th>\n",
       "      <td>264</td>\n",
       "      <td>116</td>\n",
       "      <td>148</td>\n",
       "      <td>212053</td>\n",
       "      <td>202036</td>\n",
       "      <td>20.169310</td>\n",
       "      <td>10017</td>\n",
       "      <td>0</td>\n",
       "      <td>0</td>\n",
       "      <td>250.1856</td>\n",
       "      <td>...</td>\n",
       "      <td>0</td>\n",
       "      <td>0</td>\n",
       "      <td>0</td>\n",
       "      <td>0</td>\n",
       "      <td>1</td>\n",
       "      <td>0</td>\n",
       "      <td>0</td>\n",
       "      <td>0</td>\n",
       "      <td>0</td>\n",
       "      <td>watch</td>\n",
       "    </tr>\n",
       "    <tr>\n",
       "      <th>1896</th>\n",
       "      <td>24</td>\n",
       "      <td>13</td>\n",
       "      <td>11</td>\n",
       "      <td>7749</td>\n",
       "      <td>5364</td>\n",
       "      <td>2.249056</td>\n",
       "      <td>2385</td>\n",
       "      <td>0</td>\n",
       "      <td>0</td>\n",
       "      <td>300.6818</td>\n",
       "      <td>...</td>\n",
       "      <td>0</td>\n",
       "      <td>0</td>\n",
       "      <td>0</td>\n",
       "      <td>1</td>\n",
       "      <td>0</td>\n",
       "      <td>0</td>\n",
       "      <td>0</td>\n",
       "      <td>0</td>\n",
       "      <td>0</td>\n",
       "      <td>watch</td>\n",
       "    </tr>\n",
       "    <tr>\n",
       "      <th>1897</th>\n",
       "      <td>20</td>\n",
       "      <td>9</td>\n",
       "      <td>11</td>\n",
       "      <td>7091</td>\n",
       "      <td>5336</td>\n",
       "      <td>3.040454</td>\n",
       "      <td>1755</td>\n",
       "      <td>0</td>\n",
       "      <td>0</td>\n",
       "      <td>300.9433</td>\n",
       "      <td>...</td>\n",
       "      <td>0</td>\n",
       "      <td>0</td>\n",
       "      <td>0</td>\n",
       "      <td>1</td>\n",
       "      <td>0</td>\n",
       "      <td>0</td>\n",
       "      <td>0</td>\n",
       "      <td>0</td>\n",
       "      <td>0</td>\n",
       "      <td>watch</td>\n",
       "    </tr>\n",
       "    <tr>\n",
       "      <th>1898</th>\n",
       "      <td>30</td>\n",
       "      <td>14</td>\n",
       "      <td>16</td>\n",
       "      <td>7882</td>\n",
       "      <td>5789</td>\n",
       "      <td>2.765885</td>\n",
       "      <td>2093</td>\n",
       "      <td>0</td>\n",
       "      <td>0</td>\n",
       "      <td>244.8219</td>\n",
       "      <td>...</td>\n",
       "      <td>0</td>\n",
       "      <td>0</td>\n",
       "      <td>0</td>\n",
       "      <td>0</td>\n",
       "      <td>1</td>\n",
       "      <td>0</td>\n",
       "      <td>0</td>\n",
       "      <td>0</td>\n",
       "      <td>0</td>\n",
       "      <td>watch</td>\n",
       "    </tr>\n",
       "    <tr>\n",
       "      <th>1899</th>\n",
       "      <td>294</td>\n",
       "      <td>147</td>\n",
       "      <td>147</td>\n",
       "      <td>209972</td>\n",
       "      <td>197919</td>\n",
       "      <td>16.420724</td>\n",
       "      <td>12053</td>\n",
       "      <td>0</td>\n",
       "      <td>0</td>\n",
       "      <td>248.6685</td>\n",
       "      <td>...</td>\n",
       "      <td>0</td>\n",
       "      <td>0</td>\n",
       "      <td>0</td>\n",
       "      <td>1</td>\n",
       "      <td>0</td>\n",
       "      <td>0</td>\n",
       "      <td>0</td>\n",
       "      <td>0</td>\n",
       "      <td>0</td>\n",
       "      <td>watch</td>\n",
       "    </tr>\n",
       "  </tbody>\n",
       "</table>\n",
       "<p>1900 rows × 298 columns</p>\n",
       "</div>"
      ],
      "text/plain": [
       "      ack  ack_A  ack_B   bytes  bytes_A  bytes_A_B_ratio  bytes_B  \\\n",
       "0       9      5      5    1213      743         0.713924      668   \n",
       "1       9      5      5    1213      743         1.806874      668   \n",
       "2       9      5      5    1213      743         0.103124      668   \n",
       "3       9      5      5    1213      743         1.806874      668   \n",
       "4       9      5      5    1213      743         1.806874      668   \n",
       "...   ...    ...    ...     ...      ...              ...      ...   \n",
       "1895  264    116    148  212053   202036        20.169310    10017   \n",
       "1896   24     13     11    7749     5364         2.249056     2385   \n",
       "1897   20      9     11    7091     5336         3.040454     1755   \n",
       "1898   30     14     16    7882     5789         2.765885     2093   \n",
       "1899  294    147    147  209972   197919        16.420724    12053   \n",
       "\n",
       "      ds_field_A  ds_field_B  duration  ...  suffix_is_co.il  suffix_is_com  \\\n",
       "0              0           0    1.5756  ...                0              0   \n",
       "1              0           0    0.6890  ...                0              0   \n",
       "2              0           0    0.9852  ...                0              0   \n",
       "3              0           0    1.5756  ...                0              0   \n",
       "4              0           0    1.5756  ...                0              0   \n",
       "...          ...         ...       ...  ...              ...            ...   \n",
       "1895           0           0  250.1856  ...                0              0   \n",
       "1896           0           0  300.6818  ...                0              0   \n",
       "1897           0           0  300.9433  ...                0              0   \n",
       "1898           0           0  244.8219  ...                0              0   \n",
       "1899           0           0  248.6685  ...                0              0   \n",
       "\n",
       "      suffix_is_com.sg  suffix_is_else  suffix_is_empty_char_value  \\\n",
       "0                    0               1                           0   \n",
       "1                    0               1                           0   \n",
       "2                    0               1                           0   \n",
       "3                    0               1                           0   \n",
       "4                    0               1                           0   \n",
       "...                ...             ...                         ...   \n",
       "1895                 0               0                           1   \n",
       "1896                 0               1                           0   \n",
       "1897                 0               1                           0   \n",
       "1898                 0               0                           1   \n",
       "1899                 0               1                           0   \n",
       "\n",
       "      suffix_is_googleapis.com  suffix_is_net  suffix_is_org  \\\n",
       "0                            0              0              0   \n",
       "1                            0              0              0   \n",
       "2                            0              0              0   \n",
       "3                            0              0              0   \n",
       "4                            0              0              0   \n",
       "...                        ...            ...            ...   \n",
       "1895                         0              0              0   \n",
       "1896                         0              0              0   \n",
       "1897                         0              0              0   \n",
       "1898                         0              0              0   \n",
       "1899                         0              0              0   \n",
       "\n",
       "      suffix_is_unresolved  device_category  \n",
       "0                        0  security_camera  \n",
       "1                        0  security_camera  \n",
       "2                        0  security_camera  \n",
       "3                        0  security_camera  \n",
       "4                        0  security_camera  \n",
       "...                    ...              ...  \n",
       "1895                     0            watch  \n",
       "1896                     0            watch  \n",
       "1897                     0            watch  \n",
       "1898                     0            watch  \n",
       "1899                     0            watch  \n",
       "\n",
       "[1900 rows x 298 columns]"
      ]
     },
     "execution_count": 10,
     "metadata": {},
     "output_type": "execute_result"
    }
   ],
   "source": [
    "df"
   ]
  },
  {
   "cell_type": "code",
   "execution_count": 11,
   "metadata": {
    "execution": {
     "iopub.execute_input": "2021-07-05T10:16:09.343682Z",
     "iopub.status.busy": "2021-07-05T10:16:09.343181Z",
     "iopub.status.idle": "2021-07-05T10:16:09.598703Z",
     "shell.execute_reply": "2021-07-05T10:16:09.597825Z",
     "shell.execute_reply.started": "2021-07-05T10:16:09.343635Z"
    }
   },
   "outputs": [
    {
     "data": {
      "text/plain": [
       "<AxesSubplot:title={'center':'Count of device categroy'}, xlabel='device_category', ylabel='count'>"
      ]
     },
     "execution_count": 11,
     "metadata": {},
     "output_type": "execute_result"
    },
    {
     "data": {
      "image/png": "[encoded data removed]",
      "text/plain": [
       "<Figure size 1440x720 with 1 Axes>"
      ]
     },
     "metadata": {
      "needs_background": "light"
     },
     "output_type": "display_data"
    }
   ],
   "source": [
    "plt.figure(figsize=(20,10))\n",
    "plt.title(\"Count of device categroy\")\n",
    "sns.countplot(data=df, x='device_category')"
   ]
  },
  {
   "cell_type": "code",
   "execution_count": 12,
   "metadata": {
    "execution": {
     "iopub.execute_input": "2021-07-05T10:16:09.600271Z",
     "iopub.status.busy": "2021-07-05T10:16:09.599989Z",
     "iopub.status.idle": "2021-07-05T10:16:09.628345Z",
     "shell.execute_reply": "2021-07-05T10:16:09.627344Z",
     "shell.execute_reply.started": "2021-07-05T10:16:09.600245Z"
    }
   },
   "outputs": [
    {
     "name": "stdout",
     "output_type": "stream",
     "text": [
      "<class 'pandas.core.frame.DataFrame'>\n",
      "RangeIndex: 1900 entries, 0 to 1899\n",
      "Columns: 298 entries, ack to device_category\n",
      "dtypes: float64(123), int64(174), object(1)\n",
      "memory usage: 4.3+ MB\n"
     ]
    }
   ],
   "source": [
    "df.info()"
   ]
  },
  {
   "cell_type": "code",
   "execution_count": 13,
   "metadata": {
    "execution": {
     "iopub.execute_input": "2021-07-05T10:16:09.632166Z",
     "iopub.status.busy": "2021-07-05T10:16:09.631856Z",
     "iopub.status.idle": "2021-07-05T10:16:10.247504Z",
     "shell.execute_reply": "2021-07-05T10:16:10.24641Z",
     "shell.execute_reply.started": "2021-07-05T10:16:09.632137Z"
    }
   },
   "outputs": [
    {
     "data": {
      "text/html": [
       "<div>\n",
       "<style scoped>\n",
       "    .dataframe tbody tr th:only-of-type {\n",
       "        vertical-align: middle;\n",
       "    }\n",
       "\n",
       "    .dataframe tbody tr th {\n",
       "        vertical-align: top;\n",
       "    }\n",
       "\n",
       "    .dataframe thead th {\n",
       "        text-align: right;\n",
       "    }\n",
       "</style>\n",
       "<table border=\"1\" class=\"dataframe\">\n",
       "  <thead>\n",
       "    <tr style=\"text-align: right;\">\n",
       "      <th></th>\n",
       "      <th>count</th>\n",
       "      <th>mean</th>\n",
       "      <th>std</th>\n",
       "      <th>min</th>\n",
       "      <th>25%</th>\n",
       "      <th>50%</th>\n",
       "      <th>75%</th>\n",
       "      <th>max</th>\n",
       "    </tr>\n",
       "  </thead>\n",
       "  <tbody>\n",
       "    <tr>\n",
       "      <th>ack</th>\n",
       "      <td>1900.0</td>\n",
       "      <td>227.773158</td>\n",
       "      <td>4.461165e+03</td>\n",
       "      <td>0.0</td>\n",
       "      <td>0.0</td>\n",
       "      <td>9.0</td>\n",
       "      <td>15.0</td>\n",
       "      <td>184378.0</td>\n",
       "    </tr>\n",
       "    <tr>\n",
       "      <th>ack_A</th>\n",
       "      <td>1900.0</td>\n",
       "      <td>81.211579</td>\n",
       "      <td>1.125547e+03</td>\n",
       "      <td>0.0</td>\n",
       "      <td>0.0</td>\n",
       "      <td>5.0</td>\n",
       "      <td>7.0</td>\n",
       "      <td>39265.0</td>\n",
       "    </tr>\n",
       "    <tr>\n",
       "      <th>ack_B</th>\n",
       "      <td>1900.0</td>\n",
       "      <td>146.878947</td>\n",
       "      <td>3.415513e+03</td>\n",
       "      <td>0.0</td>\n",
       "      <td>0.0</td>\n",
       "      <td>5.0</td>\n",
       "      <td>8.0</td>\n",
       "      <td>145113.0</td>\n",
       "    </tr>\n",
       "    <tr>\n",
       "      <th>bytes</th>\n",
       "      <td>1900.0</td>\n",
       "      <td>149868.166842</td>\n",
       "      <td>4.937287e+06</td>\n",
       "      <td>60.0</td>\n",
       "      <td>240.0</td>\n",
       "      <td>1213.0</td>\n",
       "      <td>2411.0</td>\n",
       "      <td>213714584.0</td>\n",
       "    </tr>\n",
       "    <tr>\n",
       "      <th>bytes_A</th>\n",
       "      <td>1900.0</td>\n",
       "      <td>142106.884211</td>\n",
       "      <td>4.870776e+06</td>\n",
       "      <td>0.0</td>\n",
       "      <td>0.0</td>\n",
       "      <td>743.0</td>\n",
       "      <td>1160.0</td>\n",
       "      <td>210863813.0</td>\n",
       "    </tr>\n",
       "    <tr>\n",
       "      <th>...</th>\n",
       "      <td>...</td>\n",
       "      <td>...</td>\n",
       "      <td>...</td>\n",
       "      <td>...</td>\n",
       "      <td>...</td>\n",
       "      <td>...</td>\n",
       "      <td>...</td>\n",
       "      <td>...</td>\n",
       "    </tr>\n",
       "    <tr>\n",
       "      <th>suffix_is_empty_char_value</th>\n",
       "      <td>1900.0</td>\n",
       "      <td>0.318947</td>\n",
       "      <td>4.661913e-01</td>\n",
       "      <td>0.0</td>\n",
       "      <td>0.0</td>\n",
       "      <td>0.0</td>\n",
       "      <td>1.0</td>\n",
       "      <td>1.0</td>\n",
       "    </tr>\n",
       "    <tr>\n",
       "      <th>suffix_is_googleapis.com</th>\n",
       "      <td>1900.0</td>\n",
       "      <td>0.000000</td>\n",
       "      <td>0.000000e+00</td>\n",
       "      <td>0.0</td>\n",
       "      <td>0.0</td>\n",
       "      <td>0.0</td>\n",
       "      <td>0.0</td>\n",
       "      <td>0.0</td>\n",
       "    </tr>\n",
       "    <tr>\n",
       "      <th>suffix_is_net</th>\n",
       "      <td>1900.0</td>\n",
       "      <td>0.000000</td>\n",
       "      <td>0.000000e+00</td>\n",
       "      <td>0.0</td>\n",
       "      <td>0.0</td>\n",
       "      <td>0.0</td>\n",
       "      <td>0.0</td>\n",
       "      <td>0.0</td>\n",
       "    </tr>\n",
       "    <tr>\n",
       "      <th>suffix_is_org</th>\n",
       "      <td>1900.0</td>\n",
       "      <td>0.000000</td>\n",
       "      <td>0.000000e+00</td>\n",
       "      <td>0.0</td>\n",
       "      <td>0.0</td>\n",
       "      <td>0.0</td>\n",
       "      <td>0.0</td>\n",
       "      <td>0.0</td>\n",
       "    </tr>\n",
       "    <tr>\n",
       "      <th>suffix_is_unresolved</th>\n",
       "      <td>1900.0</td>\n",
       "      <td>0.044211</td>\n",
       "      <td>2.056167e-01</td>\n",
       "      <td>0.0</td>\n",
       "      <td>0.0</td>\n",
       "      <td>0.0</td>\n",
       "      <td>0.0</td>\n",
       "      <td>1.0</td>\n",
       "    </tr>\n",
       "  </tbody>\n",
       "</table>\n",
       "<p>297 rows × 8 columns</p>\n",
       "</div>"
      ],
      "text/plain": [
       "                             count           mean           std   min    25%  \\\n",
       "ack                         1900.0     227.773158  4.461165e+03   0.0    0.0   \n",
       "ack_A                       1900.0      81.211579  1.125547e+03   0.0    0.0   \n",
       "ack_B                       1900.0     146.878947  3.415513e+03   0.0    0.0   \n",
       "bytes                       1900.0  149868.166842  4.937287e+06  60.0  240.0   \n",
       "bytes_A                     1900.0  142106.884211  4.870776e+06   0.0    0.0   \n",
       "...                            ...            ...           ...   ...    ...   \n",
       "suffix_is_empty_char_value  1900.0       0.318947  4.661913e-01   0.0    0.0   \n",
       "suffix_is_googleapis.com    1900.0       0.000000  0.000000e+00   0.0    0.0   \n",
       "suffix_is_net               1900.0       0.000000  0.000000e+00   0.0    0.0   \n",
       "suffix_is_org               1900.0       0.000000  0.000000e+00   0.0    0.0   \n",
       "suffix_is_unresolved        1900.0       0.044211  2.056167e-01   0.0    0.0   \n",
       "\n",
       "                               50%     75%          max  \n",
       "ack                            9.0    15.0     184378.0  \n",
       "ack_A                          5.0     7.0      39265.0  \n",
       "ack_B                          5.0     8.0     145113.0  \n",
       "bytes                       1213.0  2411.0  213714584.0  \n",
       "bytes_A                      743.0  1160.0  210863813.0  \n",
       "...                            ...     ...          ...  \n",
       "suffix_is_empty_char_value     0.0     1.0          1.0  \n",
       "suffix_is_googleapis.com       0.0     0.0          0.0  \n",
       "suffix_is_net                  0.0     0.0          0.0  \n",
       "suffix_is_org                  0.0     0.0          0.0  \n",
       "suffix_is_unresolved           0.0     0.0          1.0  \n",
       "\n",
       "[297 rows x 8 columns]"
      ]
     },
     "execution_count": 13,
     "metadata": {},
     "output_type": "execute_result"
    }
   ],
   "source": [
    "df.describe().transpose()"
   ]
  },
  {
   "cell_type": "markdown",
   "metadata": {},
   "source": [
    "we will remove those columns with one unique value"
   ]
  },
  {
   "cell_type": "code",
   "execution_count": 14,
   "metadata": {
    "execution": {
     "iopub.execute_input": "2021-07-05T10:16:10.252024Z",
     "iopub.status.busy": "2021-07-05T10:16:10.251669Z",
     "iopub.status.idle": "2021-07-05T10:16:10.297692Z",
     "shell.execute_reply": "2021-07-05T10:16:10.296464Z",
     "shell.execute_reply.started": "2021-07-05T10:16:10.251988Z"
    }
   },
   "outputs": [],
   "source": [
    "to_remove = []\n",
    "\n",
    "for col in df.columns:\n",
    "    if len(df[col].unique()) == 1:\n",
    "        to_remove.append(col)\n"
   ]
  },
  {
   "cell_type": "code",
   "execution_count": 15,
   "metadata": {
    "execution": {
     "iopub.execute_input": "2021-07-05T10:16:10.299309Z",
     "iopub.status.busy": "2021-07-05T10:16:10.299009Z",
     "iopub.status.idle": "2021-07-05T10:16:10.305881Z",
     "shell.execute_reply": "2021-07-05T10:16:10.304923Z",
     "shell.execute_reply.started": "2021-07-05T10:16:10.299282Z"
    }
   },
   "outputs": [
    {
     "data": {
      "text/plain": [
       "['ds_field_A',\n",
       " 'http_cookie_values_entropy',\n",
       " 'http_cookie_values_stdev',\n",
       " 'http_cookie_values_var',\n",
       " 'http_req_bytes_entropy',\n",
       " 'http_req_bytes_stdev',\n",
       " 'http_req_bytes_var',\n",
       " 'packet_size_B_min',\n",
       " 'packet_size_min',\n",
       " 'ssl_handshake_duration_entropy',\n",
       " 'ssl_handshake_duration_stdev',\n",
       " 'ssl_handshake_duration_var',\n",
       " 'ttl_A_entropy',\n",
       " 'ttl_A_stdev',\n",
       " 'ttl_A_var',\n",
       " 'is_g_http',\n",
       " 'is_cdn_http',\n",
       " 'is_img_http',\n",
       " 'is_ad_http',\n",
       " 'B_port_is_5222',\n",
       " 'B_port_is_5223',\n",
       " 'B_port_is_54975',\n",
       " 'B_port_is_8280',\n",
       " 'B_port_is_9543',\n",
       " 'subdomain_is_99sets',\n",
       " 'subdomain_is_ccc',\n",
       " 'subdomain_is_feeds',\n",
       " 'subdomain_is_h10141.www1',\n",
       " 'subdomain_is_img',\n",
       " 'subdomain_is_whp.aus1.cold.extweb',\n",
       " 'subdomain_is_whp.hou9.cold.extweb',\n",
       " 'domain_is_epicurious',\n",
       " 'domain_is_hp',\n",
       " 'domain_is_hpeprint',\n",
       " 'domain_is_livecdn',\n",
       " 'domain_is_mako',\n",
       " 'domain_is_samsung',\n",
       " 'suffix_is_biz',\n",
       " 'suffix_is_cloudfront.net',\n",
       " 'suffix_is_co.il',\n",
       " 'suffix_is_com.sg',\n",
       " 'suffix_is_googleapis.com',\n",
       " 'suffix_is_net',\n",
       " 'suffix_is_org']"
      ]
     },
     "execution_count": 15,
     "metadata": {},
     "output_type": "execute_result"
    }
   ],
   "source": [
    "to_remove"
   ]
  },
  {
   "cell_type": "code",
   "execution_count": 16,
   "metadata": {
    "execution": {
     "iopub.execute_input": "2021-07-05T10:16:10.307558Z",
     "iopub.status.busy": "2021-07-05T10:16:10.307269Z",
     "iopub.status.idle": "2021-07-05T10:16:10.319944Z",
     "shell.execute_reply": "2021-07-05T10:16:10.318905Z",
     "shell.execute_reply.started": "2021-07-05T10:16:10.307531Z"
    }
   },
   "outputs": [],
   "source": [
    "df = df.drop(to_remove, axis=1)"
   ]
  },
  {
   "cell_type": "code",
   "execution_count": 17,
   "metadata": {
    "execution": {
     "iopub.execute_input": "2021-07-05T10:16:10.321632Z",
     "iopub.status.busy": "2021-07-05T10:16:10.321219Z",
     "iopub.status.idle": "2021-07-05T10:16:10.867237Z",
     "shell.execute_reply": "2021-07-05T10:16:10.866169Z",
     "shell.execute_reply.started": "2021-07-05T10:16:10.321591Z"
    }
   },
   "outputs": [
    {
     "data": {
      "text/html": [
       "<div>\n",
       "<style scoped>\n",
       "    .dataframe tbody tr th:only-of-type {\n",
       "        vertical-align: middle;\n",
       "    }\n",
       "\n",
       "    .dataframe tbody tr th {\n",
       "        vertical-align: top;\n",
       "    }\n",
       "\n",
       "    .dataframe thead th {\n",
       "        text-align: right;\n",
       "    }\n",
       "</style>\n",
       "<table border=\"1\" class=\"dataframe\">\n",
       "  <thead>\n",
       "    <tr style=\"text-align: right;\">\n",
       "      <th></th>\n",
       "      <th>ack</th>\n",
       "      <th>ack_A</th>\n",
       "      <th>ack_B</th>\n",
       "      <th>bytes</th>\n",
       "      <th>bytes_A</th>\n",
       "      <th>bytes_A_B_ratio</th>\n",
       "      <th>bytes_B</th>\n",
       "      <th>ds_field_B</th>\n",
       "      <th>duration</th>\n",
       "      <th>http_GET</th>\n",
       "      <th>...</th>\n",
       "      <th>subdomain_is_www.cloud</th>\n",
       "      <th>domain_is_dlink</th>\n",
       "      <th>domain_is_else</th>\n",
       "      <th>domain_is_google</th>\n",
       "      <th>domain_is_proteussensor</th>\n",
       "      <th>domain_is_unresolved</th>\n",
       "      <th>suffix_is_com</th>\n",
       "      <th>suffix_is_else</th>\n",
       "      <th>suffix_is_empty_char_value</th>\n",
       "      <th>suffix_is_unresolved</th>\n",
       "    </tr>\n",
       "  </thead>\n",
       "  <tbody>\n",
       "    <tr>\n",
       "      <th>count</th>\n",
       "      <td>1900.000000</td>\n",
       "      <td>1900.000000</td>\n",
       "      <td>1900.000000</td>\n",
       "      <td>1.900000e+03</td>\n",
       "      <td>1.900000e+03</td>\n",
       "      <td>1900.000000</td>\n",
       "      <td>1.900000e+03</td>\n",
       "      <td>1900.000000</td>\n",
       "      <td>1900.000000</td>\n",
       "      <td>1900.000000</td>\n",
       "      <td>...</td>\n",
       "      <td>1900.000000</td>\n",
       "      <td>1900.000000</td>\n",
       "      <td>1900.000000</td>\n",
       "      <td>1900.000000</td>\n",
       "      <td>1900.000000</td>\n",
       "      <td>1900.000000</td>\n",
       "      <td>1900.000000</td>\n",
       "      <td>1900.000000</td>\n",
       "      <td>1900.000000</td>\n",
       "      <td>1900.000000</td>\n",
       "    </tr>\n",
       "    <tr>\n",
       "      <th>mean</th>\n",
       "      <td>227.773158</td>\n",
       "      <td>81.211579</td>\n",
       "      <td>146.878947</td>\n",
       "      <td>1.498682e+05</td>\n",
       "      <td>1.421069e+05</td>\n",
       "      <td>1.181570</td>\n",
       "      <td>7.824499e+03</td>\n",
       "      <td>16.951579</td>\n",
       "      <td>267.929434</td>\n",
       "      <td>0.086842</td>\n",
       "      <td>...</td>\n",
       "      <td>0.011053</td>\n",
       "      <td>0.003684</td>\n",
       "      <td>0.877895</td>\n",
       "      <td>0.002105</td>\n",
       "      <td>0.011053</td>\n",
       "      <td>0.044211</td>\n",
       "      <td>0.019474</td>\n",
       "      <td>0.555789</td>\n",
       "      <td>0.318947</td>\n",
       "      <td>0.044211</td>\n",
       "    </tr>\n",
       "    <tr>\n",
       "      <th>std</th>\n",
       "      <td>4461.164912</td>\n",
       "      <td>1125.546944</td>\n",
       "      <td>3415.513067</td>\n",
       "      <td>4.937287e+06</td>\n",
       "      <td>4.870776e+06</td>\n",
       "      <td>3.477177</td>\n",
       "      <td>7.768975e+04</td>\n",
       "      <td>28.199316</td>\n",
       "      <td>3157.437208</td>\n",
       "      <td>0.281678</td>\n",
       "      <td>...</td>\n",
       "      <td>0.104576</td>\n",
       "      <td>0.060602</td>\n",
       "      <td>0.327494</td>\n",
       "      <td>0.045847</td>\n",
       "      <td>0.104576</td>\n",
       "      <td>0.205617</td>\n",
       "      <td>0.138219</td>\n",
       "      <td>0.497009</td>\n",
       "      <td>0.466191</td>\n",
       "      <td>0.205617</td>\n",
       "    </tr>\n",
       "    <tr>\n",
       "      <th>min</th>\n",
       "      <td>0.000000</td>\n",
       "      <td>0.000000</td>\n",
       "      <td>0.000000</td>\n",
       "      <td>6.000000e+01</td>\n",
       "      <td>0.000000e+00</td>\n",
       "      <td>0.000000</td>\n",
       "      <td>6.000000e+01</td>\n",
       "      <td>0.000000</td>\n",
       "      <td>0.000000</td>\n",
       "      <td>0.000000</td>\n",
       "      <td>...</td>\n",
       "      <td>0.000000</td>\n",
       "      <td>0.000000</td>\n",
       "      <td>0.000000</td>\n",
       "      <td>0.000000</td>\n",
       "      <td>0.000000</td>\n",
       "      <td>0.000000</td>\n",
       "      <td>0.000000</td>\n",
       "      <td>0.000000</td>\n",
       "      <td>0.000000</td>\n",
       "      <td>0.000000</td>\n",
       "    </tr>\n",
       "    <tr>\n",
       "      <th>25%</th>\n",
       "      <td>0.000000</td>\n",
       "      <td>0.000000</td>\n",
       "      <td>0.000000</td>\n",
       "      <td>2.400000e+02</td>\n",
       "      <td>0.000000e+00</td>\n",
       "      <td>0.000000</td>\n",
       "      <td>2.400000e+02</td>\n",
       "      <td>0.000000</td>\n",
       "      <td>1.487675</td>\n",
       "      <td>0.000000</td>\n",
       "      <td>...</td>\n",
       "      <td>0.000000</td>\n",
       "      <td>0.000000</td>\n",
       "      <td>1.000000</td>\n",
       "      <td>0.000000</td>\n",
       "      <td>0.000000</td>\n",
       "      <td>0.000000</td>\n",
       "      <td>0.000000</td>\n",
       "      <td>0.000000</td>\n",
       "      <td>0.000000</td>\n",
       "      <td>0.000000</td>\n",
       "    </tr>\n",
       "    <tr>\n",
       "      <th>50%</th>\n",
       "      <td>9.000000</td>\n",
       "      <td>5.000000</td>\n",
       "      <td>5.000000</td>\n",
       "      <td>1.213000e+03</td>\n",
       "      <td>7.430000e+02</td>\n",
       "      <td>0.622177</td>\n",
       "      <td>6.680000e+02</td>\n",
       "      <td>0.000000</td>\n",
       "      <td>1.575600</td>\n",
       "      <td>0.000000</td>\n",
       "      <td>...</td>\n",
       "      <td>0.000000</td>\n",
       "      <td>0.000000</td>\n",
       "      <td>1.000000</td>\n",
       "      <td>0.000000</td>\n",
       "      <td>0.000000</td>\n",
       "      <td>0.000000</td>\n",
       "      <td>0.000000</td>\n",
       "      <td>1.000000</td>\n",
       "      <td>0.000000</td>\n",
       "      <td>0.000000</td>\n",
       "    </tr>\n",
       "    <tr>\n",
       "      <th>75%</th>\n",
       "      <td>15.000000</td>\n",
       "      <td>7.000000</td>\n",
       "      <td>8.000000</td>\n",
       "      <td>2.411000e+03</td>\n",
       "      <td>1.160000e+03</td>\n",
       "      <td>1.201825</td>\n",
       "      <td>1.096000e+03</td>\n",
       "      <td>64.000000</td>\n",
       "      <td>1.630525</td>\n",
       "      <td>0.000000</td>\n",
       "      <td>...</td>\n",
       "      <td>0.000000</td>\n",
       "      <td>0.000000</td>\n",
       "      <td>1.000000</td>\n",
       "      <td>0.000000</td>\n",
       "      <td>0.000000</td>\n",
       "      <td>0.000000</td>\n",
       "      <td>0.000000</td>\n",
       "      <td>1.000000</td>\n",
       "      <td>1.000000</td>\n",
       "      <td>0.000000</td>\n",
       "    </tr>\n",
       "    <tr>\n",
       "      <th>max</th>\n",
       "      <td>184378.000000</td>\n",
       "      <td>39265.000000</td>\n",
       "      <td>145113.000000</td>\n",
       "      <td>2.137146e+08</td>\n",
       "      <td>2.108638e+08</td>\n",
       "      <td>73.967293</td>\n",
       "      <td>2.850771e+06</td>\n",
       "      <td>64.000000</td>\n",
       "      <td>58432.650400</td>\n",
       "      <td>1.000000</td>\n",
       "      <td>...</td>\n",
       "      <td>1.000000</td>\n",
       "      <td>1.000000</td>\n",
       "      <td>1.000000</td>\n",
       "      <td>1.000000</td>\n",
       "      <td>1.000000</td>\n",
       "      <td>1.000000</td>\n",
       "      <td>1.000000</td>\n",
       "      <td>1.000000</td>\n",
       "      <td>1.000000</td>\n",
       "      <td>1.000000</td>\n",
       "    </tr>\n",
       "  </tbody>\n",
       "</table>\n",
       "<p>8 rows × 253 columns</p>\n",
       "</div>"
      ],
      "text/plain": [
       "                 ack         ack_A          ack_B         bytes       bytes_A  \\\n",
       "count    1900.000000   1900.000000    1900.000000  1.900000e+03  1.900000e+03   \n",
       "mean      227.773158     81.211579     146.878947  1.498682e+05  1.421069e+05   \n",
       "std      4461.164912   1125.546944    3415.513067  4.937287e+06  4.870776e+06   \n",
       "min         0.000000      0.000000       0.000000  6.000000e+01  0.000000e+00   \n",
       "25%         0.000000      0.000000       0.000000  2.400000e+02  0.000000e+00   \n",
       "50%         9.000000      5.000000       5.000000  1.213000e+03  7.430000e+02   \n",
       "75%        15.000000      7.000000       8.000000  2.411000e+03  1.160000e+03   \n",
       "max    184378.000000  39265.000000  145113.000000  2.137146e+08  2.108638e+08   \n",
       "\n",
       "       bytes_A_B_ratio       bytes_B   ds_field_B      duration     http_GET  \\\n",
       "count      1900.000000  1.900000e+03  1900.000000   1900.000000  1900.000000   \n",
       "mean          1.181570  7.824499e+03    16.951579    267.929434     0.086842   \n",
       "std           3.477177  7.768975e+04    28.199316   3157.437208     0.281678   \n",
       "min           0.000000  6.000000e+01     0.000000      0.000000     0.000000   \n",
       "25%           0.000000  2.400000e+02     0.000000      1.487675     0.000000   \n",
       "50%           0.622177  6.680000e+02     0.000000      1.575600     0.000000   \n",
       "75%           1.201825  1.096000e+03    64.000000      1.630525     0.000000   \n",
       "max          73.967293  2.850771e+06    64.000000  58432.650400     1.000000   \n",
       "\n",
       "       ...  subdomain_is_www.cloud  domain_is_dlink  domain_is_else  \\\n",
       "count  ...             1900.000000      1900.000000     1900.000000   \n",
       "mean   ...                0.011053         0.003684        0.877895   \n",
       "std    ...                0.104576         0.060602        0.327494   \n",
       "min    ...                0.000000         0.000000        0.000000   \n",
       "25%    ...                0.000000         0.000000        1.000000   \n",
       "50%    ...                0.000000         0.000000        1.000000   \n",
       "75%    ...                0.000000         0.000000        1.000000   \n",
       "max    ...                1.000000         1.000000        1.000000   \n",
       "\n",
       "       domain_is_google  domain_is_proteussensor  domain_is_unresolved  \\\n",
       "count       1900.000000              1900.000000           1900.000000   \n",
       "mean           0.002105                 0.011053              0.044211   \n",
       "std            0.045847                 0.104576              0.205617   \n",
       "min            0.000000                 0.000000              0.000000   \n",
       "25%            0.000000                 0.000000              0.000000   \n",
       "50%            0.000000                 0.000000              0.000000   \n",
       "75%            0.000000                 0.000000              0.000000   \n",
       "max            1.000000                 1.000000              1.000000   \n",
       "\n",
       "       suffix_is_com  suffix_is_else  suffix_is_empty_char_value  \\\n",
       "count    1900.000000     1900.000000                 1900.000000   \n",
       "mean        0.019474        0.555789                    0.318947   \n",
       "std         0.138219        0.497009                    0.466191   \n",
       "min         0.000000        0.000000                    0.000000   \n",
       "25%         0.000000        0.000000                    0.000000   \n",
       "50%         0.000000        1.000000                    0.000000   \n",
       "75%         0.000000        1.000000                    1.000000   \n",
       "max         1.000000        1.000000                    1.000000   \n",
       "\n",
       "       suffix_is_unresolved  \n",
       "count           1900.000000  \n",
       "mean               0.044211  \n",
       "std                0.205617  \n",
       "min                0.000000  \n",
       "25%                0.000000  \n",
       "50%                0.000000  \n",
       "75%                0.000000  \n",
       "max                1.000000  \n",
       "\n",
       "[8 rows x 253 columns]"
      ]
     },
     "execution_count": 17,
     "metadata": {},
     "output_type": "execute_result"
    }
   ],
   "source": [
    "df.describe()"
   ]
  },
  {
   "cell_type": "code",
   "execution_count": 18,
   "metadata": {
    "execution": {
     "iopub.execute_input": "2021-07-05T10:16:10.869214Z",
     "iopub.status.busy": "2021-07-05T10:16:10.868749Z",
     "iopub.status.idle": "2021-07-05T10:16:15.915034Z",
     "shell.execute_reply": "2021-07-05T10:16:15.914285Z",
     "shell.execute_reply.started": "2021-07-05T10:16:10.869158Z"
    }
   },
   "outputs": [
    {
     "data": {
      "image/png": "[encoded data removed]",
      "text/plain": [
       "<Figure size 1440x1440 with 2 Axes>"
      ]
     },
     "metadata": {
      "needs_background": "light"
     },
     "output_type": "display_data"
    }
   ],
   "source": [
    "plt.figure(figsize=(20,20)),\n",
    "sns.heatmap(data=pd.get_dummies(df).corr());"
   ]
  },
  {
   "cell_type": "code",
   "execution_count": 19,
   "metadata": {
    "execution": {
     "iopub.execute_input": "2021-07-05T10:16:15.916428Z",
     "iopub.status.busy": "2021-07-05T10:16:15.916034Z",
     "iopub.status.idle": "2021-07-05T10:16:15.921899Z",
     "shell.execute_reply": "2021-07-05T10:16:15.920821Z",
     "shell.execute_reply.started": "2021-07-05T10:16:15.916399Z"
    }
   },
   "outputs": [
    {
     "data": {
      "text/plain": [
       "Index(['ack', 'ack_A', 'ack_B', 'bytes', 'bytes_A', 'bytes_A_B_ratio',\n",
       "       'bytes_B', 'ds_field_B', 'duration', 'http_GET',\n",
       "       ...\n",
       "       'domain_is_dlink', 'domain_is_else', 'domain_is_google',\n",
       "       'domain_is_proteussensor', 'domain_is_unresolved', 'suffix_is_com',\n",
       "       'suffix_is_else', 'suffix_is_empty_char_value', 'suffix_is_unresolved',\n",
       "       'device_category'],\n",
       "      dtype='object', length=254)"
      ]
     },
     "execution_count": 19,
     "metadata": {},
     "output_type": "execute_result"
    }
   ],
   "source": [
    "df.columns"
   ]
  },
  {
   "cell_type": "markdown",
   "metadata": {},
   "source": [
    "# 5. Modelling"
   ]
  },
  {
   "cell_type": "code",
   "execution_count": 20,
   "metadata": {
    "execution": {
     "iopub.execute_input": "2021-07-05T10:16:15.923617Z",
     "iopub.status.busy": "2021-07-05T10:16:15.92333Z",
     "iopub.status.idle": "2021-07-05T10:16:15.942016Z",
     "shell.execute_reply": "2021-07-05T10:16:15.941255Z",
     "shell.execute_reply.started": "2021-07-05T10:16:15.923589Z"
    }
   },
   "outputs": [],
   "source": [
    "X = df.drop('device_category', axis=1)\n",
    "y = df['device_category']"
   ]
  },
  {
   "cell_type": "code",
   "execution_count": 21,
   "metadata": {
    "execution": {
     "iopub.execute_input": "2021-07-05T10:16:15.943604Z",
     "iopub.status.busy": "2021-07-05T10:16:15.943297Z",
     "iopub.status.idle": "2021-07-05T10:16:15.954864Z",
     "shell.execute_reply": "2021-07-05T10:16:15.953847Z",
     "shell.execute_reply.started": "2021-07-05T10:16:15.943575Z"
    }
   },
   "outputs": [],
   "source": [
    "from sklearn.model_selection import train_test_split\n",
    "from sklearn.preprocessing import StandardScaler"
   ]
  },
  {
   "cell_type": "code",
   "execution_count": 22,
   "metadata": {
    "execution": {
     "iopub.execute_input": "2021-07-05T10:16:15.956649Z",
     "iopub.status.busy": "2021-07-05T10:16:15.956297Z",
     "iopub.status.idle": "2021-07-05T10:16:15.972826Z",
     "shell.execute_reply": "2021-07-05T10:16:15.971848Z",
     "shell.execute_reply.started": "2021-07-05T10:16:15.956616Z"
    }
   },
   "outputs": [],
   "source": [
    "X_train, X_test, y_train, y_test = train_test_split(X, y, test_size=0.3, random_state=42)"
   ]
  },
  {
   "cell_type": "code",
   "execution_count": 23,
   "metadata": {
    "execution": {
     "iopub.execute_input": "2021-07-05T10:16:15.974926Z",
     "iopub.status.busy": "2021-07-05T10:16:15.974597Z",
     "iopub.status.idle": "2021-07-05T10:16:16.002582Z",
     "shell.execute_reply": "2021-07-05T10:16:16.001657Z",
     "shell.execute_reply.started": "2021-07-05T10:16:15.974895Z"
    }
   },
   "outputs": [],
   "source": [
    "scaler = StandardScaler()\n",
    "X_train = scaler.fit_transform(X_train)\n",
    "X_test = scaler.transform(X_test)"
   ]
  },
  {
   "cell_type": "markdown",
   "metadata": {},
   "source": [
    "## Model Imports"
   ]
  },
  {
   "cell_type": "code",
   "execution_count": 24,
   "metadata": {
    "execution": {
     "iopub.execute_input": "2021-07-05T10:16:16.004381Z",
     "iopub.status.busy": "2021-07-05T10:16:16.00404Z",
     "iopub.status.idle": "2021-07-05T10:16:16.010327Z",
     "shell.execute_reply": "2021-07-05T10:16:16.008845Z",
     "shell.execute_reply.started": "2021-07-05T10:16:16.004349Z"
    }
   },
   "outputs": [],
   "source": [
    "from sklearn.ensemble import GradientBoostingClassifier\n",
    "from sklearn.ensemble import RandomForestClassifier\n",
    "from sklearn.tree import DecisionTreeClassifier"
   ]
  },
  {
   "cell_type": "markdown",
   "metadata": {},
   "source": [
    "## Baseline Model Scores"
   ]
  },
  {
   "cell_type": "code",
   "execution_count": 25,
   "metadata": {
    "execution": {
     "iopub.execute_input": "2021-07-05T10:16:16.012479Z",
     "iopub.status.busy": "2021-07-05T10:16:16.01203Z",
     "iopub.status.idle": "2021-07-05T10:16:16.026341Z",
     "shell.execute_reply": "2021-07-05T10:16:16.025245Z",
     "shell.execute_reply.started": "2021-07-05T10:16:16.012437Z"
    }
   },
   "outputs": [],
   "source": [
    "def fit_and_score(models, X_train, X_test, y_train, y_test):\n",
    "    np.random.seed(42)\n",
    "    \n",
    "    model_scores = {}\n",
    "    \n",
    "    for name, model in models.items():\n",
    "        model.fit(X_train,y_train)\n",
    "        model_scores[name] = model.score(X_test,y_test)\n",
    "\n",
    "    model_scores = pd.DataFrame(model_scores, index=['Score']).transpose()\n",
    "    model_scores = model_scores.sort_values('Score')\n",
    "        \n",
    "    return model_scores"
   ]
  },
  {
   "cell_type": "code",
   "execution_count": 26,
   "metadata": {
    "execution": {
     "iopub.execute_input": "2021-07-05T10:16:16.028313Z",
     "iopub.status.busy": "2021-07-05T10:16:16.02785Z",
     "iopub.status.idle": "2021-07-05T10:16:16.043248Z",
     "shell.execute_reply": "2021-07-05T10:16:16.042351Z",
     "shell.execute_reply.started": "2021-07-05T10:16:16.028266Z"
    }
   },
   "outputs": [],
   "source": [
    "models = {'DecisionTreeClassifier': DecisionTreeClassifier(),\n",
    "          'RandomForestClassifier': RandomForestClassifier(),\n",
    "          'GradientBoostingClassifier': GradientBoostingClassifier()}"
   ]
  },
  {
   "cell_type": "code",
   "execution_count": 28,
   "metadata": {
    "execution": {
     "iopub.execute_input": "2021-07-05T10:16:16.045101Z",
     "iopub.status.busy": "2021-07-05T10:16:16.044728Z",
     "iopub.status.idle": "2021-07-05T10:16:55.734802Z",
     "shell.execute_reply": "2021-07-05T10:16:55.733922Z",
     "shell.execute_reply.started": "2021-07-05T10:16:16.045051Z"
    }
   },
   "outputs": [],
   "source": [
    "baseline_model_scores = fit_and_score(models, X_train, X_test, y_train, y_test)"
   ]
  },
  {
   "cell_type": "code",
   "execution_count": 29,
   "metadata": {
    "execution": {
     "iopub.execute_input": "2021-07-05T10:16:55.740747Z",
     "iopub.status.busy": "2021-07-05T10:16:55.738669Z",
     "iopub.status.idle": "2021-07-05T10:16:55.753456Z",
     "shell.execute_reply": "2021-07-05T10:16:55.752252Z",
     "shell.execute_reply.started": "2021-07-05T10:16:55.740678Z"
    }
   },
   "outputs": [
    {
     "data": {
      "text/html": [
       "<div>\n",
       "<style scoped>\n",
       "    .dataframe tbody tr th:only-of-type {\n",
       "        vertical-align: middle;\n",
       "    }\n",
       "\n",
       "    .dataframe tbody tr th {\n",
       "        vertical-align: top;\n",
       "    }\n",
       "\n",
       "    .dataframe thead th {\n",
       "        text-align: right;\n",
       "    }\n",
       "</style>\n",
       "<table border=\"1\" class=\"dataframe\">\n",
       "  <thead>\n",
       "    <tr style=\"text-align: right;\">\n",
       "      <th></th>\n",
       "      <th>Score</th>\n",
       "    </tr>\n",
       "  </thead>\n",
       "  <tbody>\n",
       "    <tr>\n",
       "      <th>DecisionTreeClassifier</th>\n",
       "      <td>0.819298</td>\n",
       "    </tr>\n",
       "    <tr>\n",
       "      <th>RandomForestClassifier</th>\n",
       "      <td>0.856140</td>\n",
       "    </tr>\n",
       "    <tr>\n",
       "      <th>GradientBoostingClassifier</th>\n",
       "      <td>0.859649</td>\n",
       "    </tr>\n",
       "  </tbody>\n",
       "</table>\n",
       "</div>"
      ],
      "text/plain": [
       "                               Score\n",
       "DecisionTreeClassifier      0.819298\n",
       "RandomForestClassifier      0.856140\n",
       "GradientBoostingClassifier  0.859649"
      ]
     },
     "execution_count": 29,
     "metadata": {},
     "output_type": "execute_result"
    }
   ],
   "source": [
    "baseline_model_scores"
   ]
  },
  {
   "cell_type": "code",
   "execution_count": 30,
   "metadata": {
    "execution": {
     "iopub.execute_input": "2021-07-05T10:16:55.757178Z",
     "iopub.status.busy": "2021-07-05T10:16:55.756678Z",
     "iopub.status.idle": "2021-07-05T10:16:56.017727Z",
     "shell.execute_reply": "2021-07-05T10:16:56.016641Z",
     "shell.execute_reply.started": "2021-07-05T10:16:55.757144Z"
    }
   },
   "outputs": [
    {
     "data": {
      "image/png": "[encoded data removed]",
      "text/plain": [
       "<Figure size 1440x720 with 1 Axes>"
      ]
     },
     "metadata": {
      "needs_background": "light"
     },
     "output_type": "display_data"
    }
   ],
   "source": [
    "plt.figure(figsize=(20,10))\n",
    "sns.barplot(data=baseline_model_scores.sort_values('Score').T)\n",
    "plt.title('Baseline Model Precision Score')\n",
    "plt.xticks(rotation=90);"
   ]
  },
  {
   "cell_type": "markdown",
   "metadata": {},
   "source": [
    "From the baseline modelling we have a top 2 model scores of:\n",
    "1. GradientBoostingClassifier \t0.859649\n",
    "    \n",
    "We can try tuning the hyperparams to check if the model improves"
   ]
  },
  {
   "cell_type": "markdown",
   "metadata": {},
   "source": [
    "## Random Search CV"
   ]
  },
  {
   "cell_type": "code",
   "execution_count": 31,
   "metadata": {
    "execution": {
     "iopub.execute_input": "2021-07-05T10:16:56.019805Z",
     "iopub.status.busy": "2021-07-05T10:16:56.019392Z",
     "iopub.status.idle": "2021-07-05T10:16:56.02416Z",
     "shell.execute_reply": "2021-07-05T10:16:56.023356Z",
     "shell.execute_reply.started": "2021-07-05T10:16:56.019763Z"
    }
   },
   "outputs": [],
   "source": [
    "from sklearn.model_selection import RandomizedSearchCV\n",
    "from warnings import filterwarnings"
   ]
  },
  {
   "cell_type": "code",
   "execution_count": 32,
   "metadata": {
    "execution": {
     "iopub.execute_input": "2021-07-05T10:16:56.025836Z",
     "iopub.status.busy": "2021-07-05T10:16:56.025526Z",
     "iopub.status.idle": "2021-07-05T10:16:56.038689Z",
     "shell.execute_reply": "2021-07-05T10:16:56.037606Z",
     "shell.execute_reply.started": "2021-07-05T10:16:56.025808Z"
    }
   },
   "outputs": [],
   "source": [
    "filterwarnings('ignore')"
   ]
  },
  {
   "cell_type": "code",
   "execution_count": 33,
   "metadata": {
    "execution": {
     "iopub.execute_input": "2021-07-05T10:16:56.040375Z",
     "iopub.status.busy": "2021-07-05T10:16:56.040058Z",
     "iopub.status.idle": "2021-07-05T10:16:56.052248Z",
     "shell.execute_reply": "2021-07-05T10:16:56.051381Z",
     "shell.execute_reply.started": "2021-07-05T10:16:56.040346Z"
    }
   },
   "outputs": [],
   "source": [
    "def randomsearch_cv_scores(models, params, X_train, X_test, y_train, y_test):\n",
    "    np.random.seed(42)\n",
    "    \n",
    "    model_rs_scores = {}\n",
    "    model_rs_best_param = {}\n",
    "    \n",
    "    for name, model in models.items():\n",
    "        rs_model = RandomizedSearchCV(model,\n",
    "                                     param_distributions=params[name],\n",
    "                                      cv=5,\n",
    "                                     n_iter=20,n_jobs=1,\n",
    "                                     verbose=0)        \n",
    "        rs_model.fit(X_train,y_train)\n",
    "        model_rs_scores[name] = rs_model.score(X_test,y_test)\n",
    "        model_rs_best_param[name] = rs_model.best_params_\n",
    "        \n",
    "    return model_rs_scores, model_rs_best_param"
   ]
  },
  {
   "cell_type": "code",
   "execution_count": 35,
   "metadata": {
    "execution": {
     "iopub.execute_input": "2021-07-05T10:16:56.053865Z",
     "iopub.status.busy": "2021-07-05T10:16:56.053584Z",
     "iopub.status.idle": "2021-07-05T10:16:56.075814Z",
     "shell.execute_reply": "2021-07-05T10:16:56.074648Z",
     "shell.execute_reply.started": "2021-07-05T10:16:56.05383Z"
    }
   },
   "outputs": [],
   "source": [
    "GB = GradientBoostingClassifier(loss='deviance', learning_rate=0.1, n_estimators=200, max_features='auto')\n",
    "RF = RandomForestClassifier(n_estimators=10, criterion='entropy', max_features='auto', bootstrap=True)\n",
    "DT =  DecisionTreeClassifier(random_state=42)"
   ]
  },
  {
   "cell_type": "markdown",
   "metadata": {},
   "source": [
    "# Model 1 RandomForestClassifier"
   ]
  },
  {
   "cell_type": "code",
   "execution_count": 37,
   "metadata": {
    "execution": {
     "iopub.execute_input": "2021-07-05T10:16:56.077559Z",
     "iopub.status.busy": "2021-07-05T10:16:56.077258Z",
     "iopub.status.idle": "2021-07-05T10:17:37.407346Z",
     "shell.execute_reply": "2021-07-05T10:17:37.406317Z",
     "shell.execute_reply.started": "2021-07-05T10:16:56.077531Z"
    }
   },
   "outputs": [
    {
     "data": {
      "text/plain": [
       "RandomForestClassifier(criterion='entropy', n_estimators=10)"
      ]
     },
     "execution_count": 37,
     "metadata": {},
     "output_type": "execute_result"
    }
   ],
   "source": [
    "RF.fit(X_train, y_train)"
   ]
  },
  {
   "cell_type": "code",
   "execution_count": 40,
   "metadata": {
    "execution": {
     "iopub.execute_input": "2021-07-05T10:17:37.409767Z",
     "iopub.status.busy": "2021-07-05T10:17:37.40933Z",
     "iopub.status.idle": "2021-07-05T10:17:37.416808Z",
     "shell.execute_reply": "2021-07-05T10:17:37.415507Z",
     "shell.execute_reply.started": "2021-07-05T10:17:37.40972Z"
    }
   },
   "outputs": [
    {
     "name": "stdout",
     "output_type": "stream",
     "text": [
      "RandomForestClassifier processing ,,,\n",
      "RandomForestClassifier Score: 0.837 %\n"
     ]
    }
   ],
   "source": [
    "rf_score = RF.score(X_test, y_test)\n",
    "\n",
    "print('RandomForestClassifier processing ,,,')\n",
    "print('RandomForestClassifier Score: %.3f %%' % rf_score)"
   ]
  },
  {
   "cell_type": "markdown",
   "metadata": {},
   "source": [
    "## Model 2 GradientBoostingClassifier"
   ]
  },
  {
   "cell_type": "code",
   "execution_count": 42,
   "metadata": {
    "execution": {
     "iopub.execute_input": "2021-07-05T10:17:37.433235Z",
     "iopub.status.busy": "2021-07-05T10:17:37.432783Z",
     "iopub.status.idle": "2021-07-05T10:17:37.443237Z",
     "shell.execute_reply": "2021-07-05T10:17:37.442156Z",
     "shell.execute_reply.started": "2021-07-05T10:17:37.433172Z"
    }
   },
   "outputs": [
    {
     "data": {
      "text/plain": [
       "GradientBoostingClassifier(max_features='auto', n_estimators=200)"
      ]
     },
     "execution_count": 42,
     "metadata": {},
     "output_type": "execute_result"
    }
   ],
   "source": [
    "GB.fit(X_train, y_train)"
   ]
  },
  {
   "cell_type": "code",
   "execution_count": 44,
   "metadata": {
    "execution": {
     "iopub.execute_input": "2021-07-05T10:17:37.445704Z",
     "iopub.status.busy": "2021-07-05T10:17:37.445251Z",
     "iopub.status.idle": "2021-07-05T10:19:28.078941Z",
     "shell.execute_reply": "2021-07-05T10:19:28.077738Z",
     "shell.execute_reply.started": "2021-07-05T10:17:37.445661Z"
    }
   },
   "outputs": [
    {
     "name": "stdout",
     "output_type": "stream",
     "text": [
      "GradientBoostingClassifier processing ,,,\n",
      "GradientBoostingClassifier Score: 0.872 %\n"
     ]
    }
   ],
   "source": [
    "gb_score = GB.score(X_test, y_test)\n",
    "\n",
    "print('GradientBoostingClassifier processing ,,,')\n",
    "print('GradientBoostingClassifier Score: %.3f %%' % gb_score)"
   ]
  },
  {
   "cell_type": "markdown",
   "metadata": {},
   "source": [
    "## Model 3 DecisionTreeClassifier"
   ]
  },
  {
   "cell_type": "code",
   "execution_count": 45,
   "metadata": {
    "execution": {
     "iopub.execute_input": "2021-07-05T10:19:28.102667Z",
     "iopub.status.busy": "2021-07-05T10:19:28.102114Z",
     "iopub.status.idle": "2021-07-05T10:19:28.11383Z",
     "shell.execute_reply": "2021-07-05T10:19:28.112675Z",
     "shell.execute_reply.started": "2021-07-05T10:19:28.102619Z"
    }
   },
   "outputs": [
    {
     "data": {
      "text/plain": [
       "DecisionTreeClassifier(random_state=42)"
      ]
     },
     "execution_count": 45,
     "metadata": {},
     "output_type": "execute_result"
    }
   ],
   "source": [
    "DT.fit(X_train, y_train)"
   ]
  },
  {
   "cell_type": "code",
   "execution_count": 47,
   "metadata": {
    "execution": {
     "iopub.execute_input": "2021-07-05T10:19:28.115712Z",
     "iopub.status.busy": "2021-07-05T10:19:28.115112Z",
     "iopub.status.idle": "2021-07-05T10:24:32.132577Z",
     "shell.execute_reply": "2021-07-05T10:24:32.131536Z",
     "shell.execute_reply.started": "2021-07-05T10:19:28.115664Z"
    }
   },
   "outputs": [
    {
     "name": "stdout",
     "output_type": "stream",
     "text": [
      "DecisionTreeClassifier processing ,,,\n",
      "DecisonTreeClassifier: 0.819 %\n"
     ]
    }
   ],
   "source": [
    "dt_score = DT.score(X_test, y_test)\n",
    "\n",
    "print('DecisionTreeClassifier processing ,,,')\n",
    "print('DecisonTreeClassifier: %.3f %%' % dt_score)"
   ]
  },
  {
   "cell_type": "markdown",
   "metadata": {},
   "source": [
    "# 6. Model Evaluation"
   ]
  },
  {
   "cell_type": "markdown",
   "metadata": {},
   "source": [
    "# Random Forest"
   ]
  },
  {
   "cell_type": "code",
   "execution_count": 48,
   "metadata": {
    "execution": {
     "iopub.execute_input": "2021-07-05T10:27:09.030707Z",
     "iopub.status.busy": "2021-07-05T10:27:09.030398Z",
     "iopub.status.idle": "2021-07-05T10:27:09.043048Z",
     "shell.execute_reply": "2021-07-05T10:27:09.042024Z",
     "shell.execute_reply.started": "2021-07-05T10:27:09.03068Z"
    }
   },
   "outputs": [],
   "source": [
    "from sklearn.metrics import classification_report, plot_confusion_matrix \n",
    "from sklearn.model_selection import cross_val_score"
   ]
  },
  {
   "cell_type": "code",
   "execution_count": 56,
   "metadata": {
    "execution": {
     "iopub.execute_input": "2021-07-05T10:27:09.04495Z",
     "iopub.status.busy": "2021-07-05T10:27:09.044551Z",
     "iopub.status.idle": "2021-07-05T10:27:09.056679Z",
     "shell.execute_reply": "2021-07-05T10:27:09.055582Z",
     "shell.execute_reply.started": "2021-07-05T10:27:09.044918Z"
    }
   },
   "outputs": [],
   "source": [
    "RF.fit(X_train,y_train)\n",
    "y_preds = RF.predict(X_test)"
   ]
  },
  {
   "cell_type": "code",
   "execution_count": 57,
   "metadata": {
    "execution": {
     "iopub.execute_input": "2021-07-05T10:27:09.06347Z",
     "iopub.status.busy": "2021-07-05T10:27:09.063087Z",
     "iopub.status.idle": "2021-07-05T10:27:12.609006Z",
     "shell.execute_reply": "2021-07-05T10:27:12.607638Z",
     "shell.execute_reply.started": "2021-07-05T10:27:09.063439Z"
    }
   },
   "outputs": [
    {
     "name": "stdout",
     "output_type": "stream",
     "text": [
      "                 precision    recall  f1-score   support\n",
      "\n",
      "             TV       0.79      0.93      0.85        57\n",
      "   baby_monitor       1.00      0.96      0.98        48\n",
      "         lights       0.50      0.65      0.56        48\n",
      "  motion_sensor       0.95      0.94      0.95        67\n",
      "security_camera       0.98      1.00      0.99        58\n",
      " smoke_detector       1.00      0.98      0.99        64\n",
      "         socket       0.50      0.51      0.50        57\n",
      "     thermostat       0.97      0.96      0.96        67\n",
      "          watch       0.98      0.90      0.94        69\n",
      "   water_sensor       0.50      0.29      0.36        35\n",
      "\n",
      "       accuracy                           0.84       570\n",
      "      macro avg       0.82      0.81      0.81       570\n",
      "   weighted avg       0.84      0.84      0.84       570\n",
      "\n"
     ]
    }
   ],
   "source": [
    "print(classification_report(y_test,y_preds))"
   ]
  },
  {
   "cell_type": "code",
   "execution_count": 83,
   "metadata": {
    "execution": {
     "iopub.execute_input": "2021-07-05T10:27:12.610923Z",
     "iopub.status.busy": "2021-07-05T10:27:12.610587Z",
     "iopub.status.idle": "2021-07-05T10:27:12.644405Z",
     "shell.execute_reply": "2021-07-05T10:27:12.643445Z",
     "shell.execute_reply.started": "2021-07-05T10:27:12.61089Z"
    }
   },
   "outputs": [
    {
     "data": {
      "text/plain": [
       "<sklearn.metrics._plot.confusion_matrix.ConfusionMatrixDisplay at 0x1cd16d34250>"
      ]
     },
     "execution_count": 83,
     "metadata": {},
     "output_type": "execute_result"
    },
    {
     "data": {
      "image/png": "[encoded data removed]",
      "text/plain": [
       "<Figure size 432x288 with 2 Axes>"
      ]
     },
     "metadata": {
      "needs_background": "light"
     },
     "output_type": "display_data"
    }
   ],
   "source": [
    "plot_confusion_matrix(RF,X_test,y_test)"
   ]
  },
  {
   "cell_type": "markdown",
   "metadata": {},
   "source": [
    "## Evalution using cross-validation"
   ]
  },
  {
   "cell_type": "code",
   "execution_count": 84,
   "metadata": {
    "execution": {
     "iopub.execute_input": "2021-07-05T10:27:13.340585Z",
     "iopub.status.busy": "2021-07-05T10:27:13.340313Z",
     "iopub.status.idle": "2021-07-05T10:27:13.347242Z",
     "shell.execute_reply": "2021-07-05T10:27:13.346149Z",
     "shell.execute_reply.started": "2021-07-05T10:27:13.34056Z"
    }
   },
   "outputs": [],
   "source": [
    "def get_cv_score(RF, X, y, cv=5):\n",
    "    \n",
    "    np.random.seed(42)\n",
    "    cv_accuracy = cross_val_score(RF,X,y,cv=5,\n",
    "                         scoring='accuracy')\n",
    "    print(f'Cross Validaion accuracy Scores: {cv_accuracy}')\n",
    "    print(f'Cross Validation accuracy Mean Score: {cv_accuracy.mean()}')\n",
    "      \n",
    "    \n",
    "    cv_merics = pd.DataFrame({'Accuracy': cv_accuracy.mean()}, index=[0])\n",
    "    \n",
    "    return cv_merics\n"
   ]
  },
  {
   "cell_type": "code",
   "execution_count": 85,
   "metadata": {
    "execution": {
     "iopub.execute_input": "2021-07-05T10:27:13.348877Z",
     "iopub.status.busy": "2021-07-05T10:27:13.348576Z",
     "iopub.status.idle": "2021-07-05T10:27:33.106942Z",
     "shell.execute_reply": "2021-07-05T10:27:33.105578Z",
     "shell.execute_reply.started": "2021-07-05T10:27:13.34885Z"
    }
   },
   "outputs": [
    {
     "name": "stdout",
     "output_type": "stream",
     "text": [
      "Cross Validaion accuracy Scores: [0.75       0.82631579 0.86578947 0.86578947 0.87105263]\n",
      "Cross Validation accuracy Mean Score: 0.8357894736842105\n"
     ]
    }
   ],
   "source": [
    "cv_merics = get_cv_score(RF, X, y, cv=5)"
   ]
  },
  {
   "cell_type": "code",
   "execution_count": 86,
   "metadata": {
    "execution": {
     "iopub.execute_input": "2021-07-05T10:27:33.109388Z",
     "iopub.status.busy": "2021-07-05T10:27:33.108866Z",
     "iopub.status.idle": "2021-07-05T10:27:33.120219Z",
     "shell.execute_reply": "2021-07-05T10:27:33.118791Z",
     "shell.execute_reply.started": "2021-07-05T10:27:33.10934Z"
    }
   },
   "outputs": [
    {
     "data": {
      "text/html": [
       "<div>\n",
       "<style scoped>\n",
       "    .dataframe tbody tr th:only-of-type {\n",
       "        vertical-align: middle;\n",
       "    }\n",
       "\n",
       "    .dataframe tbody tr th {\n",
       "        vertical-align: top;\n",
       "    }\n",
       "\n",
       "    .dataframe thead th {\n",
       "        text-align: right;\n",
       "    }\n",
       "</style>\n",
       "<table border=\"1\" class=\"dataframe\">\n",
       "  <thead>\n",
       "    <tr style=\"text-align: right;\">\n",
       "      <th></th>\n",
       "      <th>Accuracy</th>\n",
       "    </tr>\n",
       "  </thead>\n",
       "  <tbody>\n",
       "    <tr>\n",
       "      <th>0</th>\n",
       "      <td>0.835789</td>\n",
       "    </tr>\n",
       "  </tbody>\n",
       "</table>\n",
       "</div>"
      ],
      "text/plain": [
       "   Accuracy\n",
       "0  0.835789"
      ]
     },
     "execution_count": 86,
     "metadata": {},
     "output_type": "execute_result"
    }
   ],
   "source": [
    "cv_merics"
   ]
  },
  {
   "cell_type": "markdown",
   "metadata": {},
   "source": [
    "# Gradient Boosting"
   ]
  },
  {
   "cell_type": "code",
   "execution_count": 76,
   "metadata": {},
   "outputs": [],
   "source": [
    "GB.fit(X_train,y_train)\n",
    "y_preds = GB.predict(X_test)"
   ]
  },
  {
   "cell_type": "code",
   "execution_count": 79,
   "metadata": {},
   "outputs": [
    {
     "name": "stdout",
     "output_type": "stream",
     "text": [
      "                 precision    recall  f1-score   support\n",
      "\n",
      "             TV       0.87      0.95      0.91        57\n",
      "   baby_monitor       1.00      0.98      0.99        48\n",
      "         lights       0.51      0.56      0.53        48\n",
      "  motion_sensor       0.96      0.99      0.97        67\n",
      "security_camera       1.00      1.00      1.00        58\n",
      " smoke_detector       1.00      0.98      0.99        64\n",
      "         socket       0.58      0.61      0.60        57\n",
      "     thermostat       0.98      0.96      0.97        67\n",
      "          watch       0.95      0.91      0.93        69\n",
      "   water_sensor       0.67      0.51      0.58        35\n",
      "\n",
      "       accuracy                           0.87       570\n",
      "      macro avg       0.85      0.85      0.85       570\n",
      "   weighted avg       0.87      0.87      0.87       570\n",
      "\n"
     ]
    }
   ],
   "source": [
    "print(classification_report(y_test,y_preds))"
   ]
  },
  {
   "cell_type": "code",
   "execution_count": 87,
   "metadata": {},
   "outputs": [
    {
     "data": {
      "text/plain": [
       "<sklearn.metrics._plot.confusion_matrix.ConfusionMatrixDisplay at 0x1cd1893ae50>"
      ]
     },
     "execution_count": 87,
     "metadata": {},
     "output_type": "execute_result"
    },
    {
     "data": {
      "image/png": "[encoded data removed]",
      "text/plain": [
       "<Figure size 432x288 with 2 Axes>"
      ]
     },
     "metadata": {
      "needs_background": "light"
     },
     "output_type": "display_data"
    }
   ],
   "source": [
    "plot_confusion_matrix(GB,X_test,y_test)"
   ]
  },
  {
   "cell_type": "code",
   "execution_count": 88,
   "metadata": {},
   "outputs": [],
   "source": [
    "def get_cv_score(GB, X, y, cv=5):\n",
    "    \n",
    "    np.random.seed(42)\n",
    "    cv_accuracy = cross_val_score(GB,X,y,cv=5,\n",
    "                         scoring='accuracy')\n",
    "    print(f'Cross Validaion accuracy Scores: {cv_accuracy}')\n",
    "    print(f'Cross Validation accuracy Mean Score: {cv_accuracy.mean()}')\n",
    "      \n",
    "    \n",
    "    cv_merics = pd.DataFrame({'Accuracy': cv_accuracy.mean()}, index=[0])\n",
    "    \n",
    "    return cv_merics\n"
   ]
  },
  {
   "cell_type": "code",
   "execution_count": 89,
   "metadata": {},
   "outputs": [
    {
     "name": "stdout",
     "output_type": "stream",
     "text": [
      "Cross Validaion accuracy Scores: [0.72631579 0.84473684 0.88421053 0.88421053 0.87894737]\n",
      "Cross Validation accuracy Mean Score: 0.8436842105263158\n"
     ]
    }
   ],
   "source": [
    "cv_merics = get_cv_score(GB, X, y, cv=5)"
   ]
  },
  {
   "cell_type": "code",
   "execution_count": 91,
   "metadata": {},
   "outputs": [
    {
     "data": {
      "text/html": [
       "<div>\n",
       "<style scoped>\n",
       "    .dataframe tbody tr th:only-of-type {\n",
       "        vertical-align: middle;\n",
       "    }\n",
       "\n",
       "    .dataframe tbody tr th {\n",
       "        vertical-align: top;\n",
       "    }\n",
       "\n",
       "    .dataframe thead th {\n",
       "        text-align: right;\n",
       "    }\n",
       "</style>\n",
       "<table border=\"1\" class=\"dataframe\">\n",
       "  <thead>\n",
       "    <tr style=\"text-align: right;\">\n",
       "      <th></th>\n",
       "      <th>Accuracy</th>\n",
       "    </tr>\n",
       "  </thead>\n",
       "  <tbody>\n",
       "    <tr>\n",
       "      <th>0</th>\n",
       "      <td>0.843684</td>\n",
       "    </tr>\n",
       "  </tbody>\n",
       "</table>\n",
       "</div>"
      ],
      "text/plain": [
       "   Accuracy\n",
       "0  0.843684"
      ]
     },
     "execution_count": 91,
     "metadata": {},
     "output_type": "execute_result"
    }
   ],
   "source": [
    "cv_merics"
   ]
  },
  {
   "cell_type": "markdown",
   "metadata": {},
   "source": [
    "# Deciosn Tree"
   ]
  },
  {
   "cell_type": "code",
   "execution_count": 92,
   "metadata": {},
   "outputs": [],
   "source": [
    "DT.fit(X_train,y_train)\n",
    "y_preds = DT.predict(X_test)"
   ]
  },
  {
   "cell_type": "code",
   "execution_count": 93,
   "metadata": {},
   "outputs": [
    {
     "name": "stdout",
     "output_type": "stream",
     "text": [
      "                 precision    recall  f1-score   support\n",
      "\n",
      "             TV       0.83      0.84      0.83        57\n",
      "   baby_monitor       0.85      0.98      0.91        48\n",
      "         lights       0.50      0.67      0.57        48\n",
      "  motion_sensor       0.90      0.78      0.83        67\n",
      "security_camera       1.00      0.98      0.99        58\n",
      " smoke_detector       0.90      0.94      0.92        64\n",
      "         socket       0.58      0.49      0.53        57\n",
      "     thermostat       0.93      0.97      0.95        67\n",
      "          watch       0.92      0.87      0.90        69\n",
      "   water_sensor       0.64      0.51      0.57        35\n",
      "\n",
      "       accuracy                           0.82       570\n",
      "      macro avg       0.81      0.80      0.80       570\n",
      "   weighted avg       0.82      0.82      0.82       570\n",
      "\n"
     ]
    }
   ],
   "source": [
    "print(classification_report(y_test,y_preds))"
   ]
  },
  {
   "cell_type": "code",
   "execution_count": 94,
   "metadata": {},
   "outputs": [
    {
     "data": {
      "text/plain": [
       "<sklearn.metrics._plot.confusion_matrix.ConfusionMatrixDisplay at 0x1cd172583a0>"
      ]
     },
     "execution_count": 94,
     "metadata": {},
     "output_type": "execute_result"
    },
    {
     "data": {
      "image/png": "[encoded data removed]",
      "text/plain": [
       "<Figure size 432x288 with 2 Axes>"
      ]
     },
     "metadata": {
      "needs_background": "light"
     },
     "output_type": "display_data"
    }
   ],
   "source": [
    "plot_confusion_matrix(DT,X_test,y_test)"
   ]
  },
  {
   "cell_type": "code",
   "execution_count": 95,
   "metadata": {},
   "outputs": [],
   "source": [
    "def get_cv_score(DT, X, y, cv=5):\n",
    "    \n",
    "    np.random.seed(42)\n",
    "    cv_accuracy = cross_val_score(DT,X,y,cv=5,\n",
    "                         scoring='accuracy')\n",
    "    print(f'Cross Validaion accuracy Scores: {cv_accuracy}')\n",
    "    print(f'Cross Validation accuracy Mean Score: {cv_accuracy.mean()}')\n",
    "      \n",
    "    \n",
    "    cv_merics = pd.DataFrame({'Accuracy': cv_accuracy.mean()}, index=[0])\n",
    "    \n",
    "    return cv_merics\n"
   ]
  },
  {
   "cell_type": "code",
   "execution_count": 96,
   "metadata": {},
   "outputs": [
    {
     "name": "stdout",
     "output_type": "stream",
     "text": [
      "Cross Validaion accuracy Scores: [0.73684211 0.81578947 0.86052632 0.84473684 0.84210526]\n",
      "Cross Validation accuracy Mean Score: 0.82\n"
     ]
    }
   ],
   "source": [
    "cv_merics = get_cv_score(DT, X, y, cv=5)"
   ]
  },
  {
   "cell_type": "code",
   "execution_count": 97,
   "metadata": {},
   "outputs": [
    {
     "data": {
      "text/html": [
       "<div>\n",
       "<style scoped>\n",
       "    .dataframe tbody tr th:only-of-type {\n",
       "        vertical-align: middle;\n",
       "    }\n",
       "\n",
       "    .dataframe tbody tr th {\n",
       "        vertical-align: top;\n",
       "    }\n",
       "\n",
       "    .dataframe thead th {\n",
       "        text-align: right;\n",
       "    }\n",
       "</style>\n",
       "<table border=\"1\" class=\"dataframe\">\n",
       "  <thead>\n",
       "    <tr style=\"text-align: right;\">\n",
       "      <th></th>\n",
       "      <th>Accuracy</th>\n",
       "    </tr>\n",
       "  </thead>\n",
       "  <tbody>\n",
       "    <tr>\n",
       "      <th>0</th>\n",
       "      <td>0.82</td>\n",
       "    </tr>\n",
       "  </tbody>\n",
       "</table>\n",
       "</div>"
      ],
      "text/plain": [
       "   Accuracy\n",
       "0      0.82"
      ]
     },
     "execution_count": 97,
     "metadata": {},
     "output_type": "execute_result"
    }
   ],
   "source": [
    "cv_merics"
   ]
  },
  {
   "cell_type": "code",
   "execution_count": null,
   "metadata": {},
   "outputs": [],
   "source": []
  }
 ],
 "metadata": {
  "kernelspec": {
   "display_name": "Python 3 (ipykernel)",
   "language": "python",
   "name": "python3"
  },
  "language_info": {
   "codemirror_mode": {
    "name": "ipython",
    "version": 3
   },
   "file_extension": ".py",
   "mimetype": "text/x-python",
   "name": "python",
   "nbconvert_exporter": "python",
   "pygments_lexer": "ipython3",
   "version": "3.9.7"
  }
 },
 "nbformat": 4,
 "nbformat_minor": 4
}
